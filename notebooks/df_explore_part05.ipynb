{
 "cells": [
  {
   "cell_type": "markdown",
   "id": "ee20218b-8065-4809-ac5b-82c82f95d34b",
   "metadata": {},
   "source": [
    "# Loop data, Part 5: Plot day to day comparisons\n",
    "\n",
    "What I'm trying to do this time:\n",
    "\n",
    "- plot several days of data on top of each other\n",
    "- have the user (well... me) select the number of days to show (I guess start and end date) and also select the time window of interest\n",
    "- eventually (probably not in this notebook but we'll see) have some kind of hover tool (or something else??) to look at treatment info for the selected time period for a selected day. "
   ]
  },
  {
   "cell_type": "code",
   "execution_count": 4,
   "id": "fc464547-b809-4239-9859-90455718f265",
   "metadata": {
    "tags": []
   },
   "outputs": [],
   "source": [
    "import sys\n",
    "sys.path.append(\"../\")\n",
    "\n",
    "from mdb_tools import load_data as ld\n",
    "from mdb_tools import schemas\n",
    "from mdb_tools import loop_stats as oop\n",
    "from mdb_tools import sugar_plots as sp\n",
    "\n",
    "import pandas as pd\n",
    "import numpy as np\n",
    "\n",
    "from datetime import datetime\n",
    "import pytz\n",
    "\n",
    "import matplotlib.pyplot as plt\n",
    "%matplotlib widget"
   ]
  },
  {
   "cell_type": "code",
   "execution_count": 2,
   "id": "f3686199-c346-423a-8c22-19edf71f3712",
   "metadata": {
    "tags": []
   },
   "outputs": [],
   "source": [
    "yml_secrets_file = '../../secrets/mdb_secrets.yml'\n",
    "\n",
    "# Access the database using the yml secrets file, and get a specific set of \"collections\"\n",
    "col_entries, col_treatments, col_profile, col_devicestatus = ld.get_collections(yml_secrets_file)\n",
    "\n",
    "# Grab schemas\n",
    "entries_schema, treatments_schema, devicestatus_schema = schemas.mdb_schemas()\n",
    "\n",
    "# Load\n",
    "df_entries0 = col_entries.find_pandas_all({}, schema=entries_schema)\n",
    "df_treatments = col_treatments.find_pandas_all({}, schema=treatments_schema)\n",
    "df_devicestatus = col_devicestatus.find_pandas_all({}, schema=devicestatus_schema)\n",
    "\n",
    "# Remove duplicate entries from cgm date - keep only loop for now.\n",
    "df_entries = df_entries0[df_entries0[\"device\"]==\"loop://Dexcom/G6/21.0\"].copy()"
   ]
  },
  {
   "cell_type": "code",
   "execution_count": 3,
   "id": "97825f3a-711c-4c2b-a803-f1859176e4c4",
   "metadata": {
    "tags": []
   },
   "outputs": [],
   "source": [
    "# Convert the time string to datetime format (not converting time zone this time!)\n",
    "df_entries[\"time\"] = pd.to_datetime(df_entries[\"dateString\"]).dt.tz_convert('US/Eastern')\n",
    "df_entries.index = df_entries[\"time\"]\n",
    "df_entries.sort_index(inplace=True)"
   ]
  },
  {
   "cell_type": "code",
   "execution_count": 5,
   "id": "0d411939-1a55-445b-96f7-076bc5e9997a",
   "metadata": {
    "tags": []
   },
   "outputs": [],
   "source": [
    "# Set up my start/end dates and start/end times\n",
    "date_start = '2023-10-25'\n",
    "date_end = '2023-11-01'\n",
    "\n",
    "# start and end time in hours/time of day\n",
    "time_start = 6\n",
    "time_end = 12"
   ]
  },
  {
   "cell_type": "code",
   "execution_count": 6,
   "id": "8a9808b6-1e4b-41e8-8338-245acc483ef4",
   "metadata": {
    "tags": []
   },
   "outputs": [],
   "source": [
    "# Extract only the dates of interest\n",
    "df_sub = df_entries.loc[date_start:date_end]\n"
   ]
  },
  {
   "cell_type": "code",
   "execution_count": null,
   "id": "41c6f109-57b7-4016-8040-f5795d124a2f",
   "metadata": {
    "tags": []
   },
   "outputs": [],
   "source": []
  },
  {
   "cell_type": "code",
   "execution_count": null,
   "id": "05072eba-5386-472d-a6c8-51681fe0f82e",
   "metadata": {},
   "outputs": [],
   "source": []
  }
 ],
 "metadata": {
  "kernelspec": {
   "display_name": "Python 3 (ipykernel)",
   "language": "python",
   "name": "python3"
  },
  "language_info": {
   "codemirror_mode": {
    "name": "ipython",
    "version": 3
   },
   "file_extension": ".py",
   "mimetype": "text/x-python",
   "name": "python",
   "nbconvert_exporter": "python",
   "pygments_lexer": "ipython3",
   "version": "3.10.13"
  }
 },
 "nbformat": 4,
 "nbformat_minor": 5
}
