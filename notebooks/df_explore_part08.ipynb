{
 "cells": [
  {
   "cell_type": "markdown",
   "id": "52ed89ab-5605-43a5-8283-f788af41c08c",
   "metadata": {
    "tags": []
   },
   "source": [
    "# Loop data and feature extraction\n",
    "\n",
    "It's time. I have been a bit stuck on where to go next but I really think it's time to focus on feature extraction/feature engineering. So what features am I interested in? \n",
    "\n",
    "Well I think that a good place to start is to think about time scales. What are our time scales of interest? I'd like to be able to see daily trends. I'd also like to see daily segments of time - say, morning, afternoon, evening, night. And I want to be able to see all of the treatment settings to see how those may trigger various blood sugar responses.\n",
    "\n",
    "## Features to extract\n",
    "This is just an initial list based on things I can think of off the top of my head that might be nice to be able to visualize.\n",
    "\n",
    "### Dependent variables\n",
    "- SVG readings every 5 mins (basically the raw blood glucose)\n",
    "- daily time in range, time above, and time below\n",
    "- number of lows needing correction per day\n",
    "- All the same stats as daily stats, but split over daily segments (am, pm, evening, night)\n",
    "\n",
    "### Independent variables\n",
    "- total daily insulin\n",
    "- daily bolus amount\n",
    "- daily basal amount\n",
    "- carb ratios\n",
    "- insulin correction factor\n",
    "- basal rates\n",
    "- basal adjustments (high/low)\n",
    "- automatic boluses\n",
    "\n",
    "## Approach and next steps\n",
    "I've already extracted a few of these - either partially or fully. But it would be really good to have these various statistics collected into summary dataframes where I could run analysis on them. \n",
    "\n",
    "So next steps are to both extract features from the dataset and also organize those data for easier processing."
   ]
  },
  {
   "cell_type": "markdown",
   "id": "2859f3cf-2fc5-48db-8210-56d724652cdf",
   "metadata": {},
   "source": [
    "# Dependent variables\n",
    "These are mostly something related to the blood glucose level, or a statistic derived from that. We already have a function for extracting daily time in and out of range so let's start there."
   ]
  },
  {
   "cell_type": "code",
   "execution_count": 6,
   "id": "78d24664-bbf4-4322-943e-bc8ed970410b",
   "metadata": {
    "tags": []
   },
   "outputs": [],
   "source": [
    "import sys\n",
    "sys.path.append(\"../\")\n",
    "\n",
    "from mdb_tools import load_data as ld\n",
    "from mdb_tools import schemas\n",
    "from mdb_tools import loop_stats as oop\n",
    "from mdb_tools import sugar_plots as sp\n",
    "\n",
    "import pandas as pd\n",
    "import numpy as np\n",
    "\n",
    "from datetime import datetime\n",
    "import pytz\n",
    "\n",
    "import matplotlib.pyplot as plt\n",
    "%matplotlib widget\n",
    "\n",
    "import hvplot.pandas"
   ]
  },
  {
   "cell_type": "code",
   "execution_count": 2,
   "id": "67899dfc-922c-4f87-9417-1d4d8b81d610",
   "metadata": {
    "tags": []
   },
   "outputs": [],
   "source": [
    "# Things that may change (ie eventual function arguments)\n",
    "yml_secrets_file = '../../secrets/mdb_secrets.yml'\n",
    "time_zone = 'US/Eastern'\n",
    "\n",
    "# Access the database using the yml secrets file, and get a specific set of \"collections\"\n",
    "col_entries, col_treatments, col_profile, col_devicestatus = ld.get_collections(yml_secrets_file)\n",
    "\n",
    "# Grab schemas\n",
    "entries_schema, treatments_schema, devicestatus_schema = schemas.mdb_schemas()\n",
    "\n",
    "# Load\n",
    "df_entries0 = col_entries.find_pandas_all({}, schema=entries_schema)\n",
    "df_treatments = col_treatments.find_pandas_all({}, schema=treatments_schema)\n",
    "df_devicestatus = col_devicestatus.find_pandas_all({}, schema=devicestatus_schema)\n",
    "\n",
    "# Remove duplicate entries from cgm date - keep only loop for now.\n",
    "df_entries = df_entries0[df_entries0[\"device\"]==\"loop://Dexcom/G6/21.0\"].copy()\n",
    "\n",
    "# Convert entries time strings to datetime format \n",
    "df_entries[\"time\"] = pd.to_datetime(df_entries[\"dateString\"]).dt.tz_convert(time_zone)\n",
    "df_entries.set_index(\"time\", inplace = True, drop=False)\n",
    "df_entries.sort_index(inplace=True)\n",
    "\n",
    "# Convert device status time strings to datetime format\n",
    "df_devicestatus[\"time\"] = pd.to_datetime(df_devicestatus[\"created_at\"]).dt.tz_convert(time_zone)"
   ]
  },
  {
   "cell_type": "code",
   "execution_count": 3,
   "id": "eb32fbe4-0b1b-4f0f-a183-cf04d45b4485",
   "metadata": {
    "tags": []
   },
   "outputs": [],
   "source": [
    "cur = col_treatments.find({'eventType':'Correction Bolus'})\n",
    "t_list = []\n",
    "for c in cur:\n",
    "    t_list.append(c)"
   ]
  },
  {
   "cell_type": "code",
   "execution_count": 5,
   "id": "7ce16690-4e36-4a51-bfac-30aae09eadd0",
   "metadata": {
    "tags": []
   },
   "outputs": [
    {
     "data": {
      "text/html": [
       "<div>\n",
       "<style scoped>\n",
       "    .dataframe tbody tr th:only-of-type {\n",
       "        vertical-align: middle;\n",
       "    }\n",
       "\n",
       "    .dataframe tbody tr th {\n",
       "        vertical-align: top;\n",
       "    }\n",
       "\n",
       "    .dataframe thead th {\n",
       "        text-align: right;\n",
       "    }\n",
       "</style>\n",
       "<table border=\"1\" class=\"dataframe\">\n",
       "  <thead>\n",
       "    <tr style=\"text-align: right;\">\n",
       "      <th></th>\n",
       "      <th>yearday</th>\n",
       "      <th>time</th>\n",
       "      <th>pct_above</th>\n",
       "      <th>pct_below</th>\n",
       "      <th>pct_inrange</th>\n",
       "    </tr>\n",
       "    <tr>\n",
       "      <th>yearday</th>\n",
       "      <th></th>\n",
       "      <th></th>\n",
       "      <th></th>\n",
       "      <th></th>\n",
       "      <th></th>\n",
       "    </tr>\n",
       "  </thead>\n",
       "  <tbody>\n",
       "    <tr>\n",
       "      <th>2023-361</th>\n",
       "      <td>2023-361</td>\n",
       "      <td>2023-12-27</td>\n",
       "      <td>32.386364</td>\n",
       "      <td>2.272727</td>\n",
       "      <td>65.340909</td>\n",
       "    </tr>\n",
       "    <tr>\n",
       "      <th>2023-362</th>\n",
       "      <td>2023-362</td>\n",
       "      <td>2023-12-28</td>\n",
       "      <td>25.102881</td>\n",
       "      <td>3.703704</td>\n",
       "      <td>71.193416</td>\n",
       "    </tr>\n",
       "    <tr>\n",
       "      <th>2023-363</th>\n",
       "      <td>2023-363</td>\n",
       "      <td>2023-12-29</td>\n",
       "      <td>40.000000</td>\n",
       "      <td>0.000000</td>\n",
       "      <td>60.000000</td>\n",
       "    </tr>\n",
       "    <tr>\n",
       "      <th>2023-364</th>\n",
       "      <td>2023-364</td>\n",
       "      <td>2023-12-30</td>\n",
       "      <td>14.285714</td>\n",
       "      <td>4.761905</td>\n",
       "      <td>80.952381</td>\n",
       "    </tr>\n",
       "    <tr>\n",
       "      <th>2023-365</th>\n",
       "      <td>2023-365</td>\n",
       "      <td>2023-12-31</td>\n",
       "      <td>62.962963</td>\n",
       "      <td>0.000000</td>\n",
       "      <td>37.037037</td>\n",
       "    </tr>\n",
       "  </tbody>\n",
       "</table>\n",
       "</div>"
      ],
      "text/plain": [
       "           yearday       time  pct_above  pct_below  pct_inrange\n",
       "yearday                                                         \n",
       "2023-361  2023-361 2023-12-27  32.386364   2.272727    65.340909\n",
       "2023-362  2023-362 2023-12-28  25.102881   3.703704    71.193416\n",
       "2023-363  2023-363 2023-12-29  40.000000   0.000000    60.000000\n",
       "2023-364  2023-364 2023-12-30  14.285714   4.761905    80.952381\n",
       "2023-365  2023-365 2023-12-31  62.962963   0.000000    37.037037"
      ]
     },
     "execution_count": 5,
     "metadata": {},
     "output_type": "execute_result"
    }
   ],
   "source": [
    "df_cgm_daily = oop.daily_cgm_stats(df_entries['time'], df_entries['sgv'], min_target=70, max_target=180)\n",
    "df_cgm_daily.tail()\n"
   ]
  },
  {
   "cell_type": "code",
   "execution_count": 7,
   "id": "e2885228-4512-4605-a1a3-259d3b2fe5e9",
   "metadata": {
    "tags": []
   },
   "outputs": [],
   "source": [
    "# Add a time column that has time zone defined, make that the index\n",
    "df_treatments[\"time\"] = pd.to_datetime(df_treatments[\"timestamp\"]).dt.tz_convert(time_zone)\n",
    "df_treatments.set_index(\"time\", inplace = True, drop=False)\n",
    "df_treatments.sort_index(inplace=True)"
   ]
  },
  {
   "cell_type": "markdown",
   "id": "7bb22087-6bfb-4097-8079-dc6d3698a765",
   "metadata": {
    "tags": []
   },
   "source": [
    "## Computing Total Daily Insulin\n",
    "\n",
    "### User defines/requests a time period and increment\n",
    "The user would need to provide a start and end date/time (in pandas datetime format). They would also need to provide a step size/increment, which would be the time step at which analysis would occur. For example, User might select start and end dates (e.g., 1 Sep 2023 - 31 October 2023, or maybe just \"last 2 months\"). Then they might choose 24h as the step size. Other step sizes that could be analyzed would be hours or daily \"segments\" (morning, afternoon, evening, night). \n",
    "\n",
    "Loop through each of the increments within the requested time period. Within each of the subsets, compute and store the following information.\n",
    "\n",
    "### Sum basal over requested time periods\n",
    "\n",
    "### Add/subtract based on treatments\n",
    "Within each of the looped segments, extract info from df_treatments data frame.\n",
    "\n",
    "#### Temp basal\n",
    "Multiply the hourly rate by the number of hours (duration) to get total delivered temp basal. \n",
    "\n",
    "#### Correction Bolus\n",
    "Add the \"insulin\" value directly (it's not a rate so is not multiplied by duration).\n",
    "\n",
    "#### Carb Correction\n",
    "Use the carb ratio lookup (get_settings_at_time)\n",
    "\n",
    "# Step 1: User selects date/time range"
   ]
  },
  {
   "cell_type": "code",
   "execution_count": 97,
   "id": "91a8b6ca-33f6-47e1-b847-69232aeca4cc",
   "metadata": {
    "tags": []
   },
   "outputs": [],
   "source": [
    "date_start = pd.Timestamp(year=2023, month=11, day=5)\n",
    "date_end = pd.Timestamp(year=2023, month=12, day=30)\n",
    "\n",
    "dates = pd.date_range(start=date_start, end=date_end, freq=\"H\").tz_localize('US/Eastern', ambiguous='NaT')\n",
    "\n",
    "# Custom function to remove the NaTs from dates (replace with nearest)\n",
    "def replace_na_with_nearest_value(index):\n",
    "    index = index.to_series()\n",
    "    index = index.fillna(method='ffill')\n",
    "    index = index.fillna(method='bfill')\n",
    "    return index\n",
    "\n",
    "# Replace \"NaT\" values with the nearest real value (backward fill)\n",
    "filled_dates = replace_na_with_nearest_value(dates)\n"
   ]
  },
  {
   "cell_type": "markdown",
   "id": "97540360-76af-46c9-aa27-c1b158408a34",
   "metadata": {},
   "source": [
    "# Step 2: Sum the basal insulin over the time period\n"
   ]
  },
  {
   "cell_type": "code",
   "execution_count": 28,
   "id": "83d4d49a-dc8f-4e78-b83e-829fbc3adade",
   "metadata": {
    "tags": []
   },
   "outputs": [],
   "source": [
    "# Get basal rate at every time\n",
    "hourly_basal_rate = oop.get_setting_at_times(filled_dates, col_profile, req_setting=\"basal\")\n",
    "\n",
    "# Create a new dataframe just for basal rates\n",
    "df_basal = pd.DataFrame(index=dates)\n",
    "df_basal['hourly_basal'] = hourly_basal_rate\n",
    "df_basal['time'] = df_basal.index\n",
    "\n",
    "# Group by date and sum within groups to get total basal insulin\n",
    "daily_basal = df_basal.groupby([df_basal['time'].dt.date])['hourly_basal'].sum()\n"
   ]
  },
  {
   "cell_type": "markdown",
   "id": "ab64cae5-db7d-4c65-bae1-9c379dd8f349",
   "metadata": {
    "tags": []
   },
   "source": [
    "# Step 3: Sum \"treatment\" insulin"
   ]
  },
  {
   "cell_type": "code",
   "execution_count": 99,
   "id": "47732320-0c1f-4902-9f04-cdb0440188d8",
   "metadata": {
    "tags": []
   },
   "outputs": [],
   "source": [
    "event_types = [\"Carb Correction\", \"Correction Bolus\", \"Temp Basal\", \"Temporary Override\"]\n",
    "e_type = \"Temp Basal\"\n",
    "\n",
    "for e in event_types:\n",
    "    df_sub = df_treatments[df_treatments[\"eventType\"] == e]\n",
    "    match e:\n",
    "        case \"Correction Bolus\": \n",
    "            df_sub = df_sub_date[df_sub_date[\"eventType\"] == e].copy()\n",
    "            insulin_total = df_sub.groupby([df_sub['time'].dt.date])['insulin'].sum()\n",
    "        case \"Temp Basal\": \n",
    "            df_sub = df_sub_date[df_sub_date[\"eventType\"] == e].copy()\n",
    "            basal = oop.get_setting_at_times(df_sub['time'], col_profile, req_setting=\"basal\")\n",
    "            df_sub['basal_difference'] = np.multiply(np.subtract(df_sub['absolute'], basal), df_sub['duration']/60)\n",
    "            basal_adjustment = df_sub.groupby([df_sub['time'].dt.date])['basal_difference'].sum()\n",
    "\n"
   ]
  },
  {
   "cell_type": "code",
   "execution_count": null,
   "id": "935cd13c-2f39-409b-8569-1431a9472661",
   "metadata": {},
   "outputs": [],
   "source": []
  },
  {
   "cell_type": "code",
   "execution_count": null,
   "id": "fcfee98f-71b6-46c1-9ec3-608c03a15966",
   "metadata": {},
   "outputs": [],
   "source": []
  },
  {
   "cell_type": "code",
   "execution_count": 23,
   "id": "5890a6a3-3a6f-414f-ac9d-5d7786ecee08",
   "metadata": {
    "tags": []
   },
   "outputs": [],
   "source": [
    "# df_sub_date = df_treatments.loc[date_start:date_end].copy()\n",
    "\n",
    "# # ######################################################################################################\n",
    "# # #  Sum all the correction boluses for each day within the subset of requested days\n",
    "# e = \"Correction Bolus\"\n",
    "# df_sub = df_sub_date[df_sub_date[\"eventType\"] == e]\n",
    "# insulin_total = df_sub.groupby([df_sub['time'].dt.date])['insulin'].sum()\n",
    "\n",
    "# # ######################################################################################################\n",
    "# # #  Compute the total insulin difference due to temp basal adjustments, again grouped by day\n",
    "# e = \"Temp Basal\"\n",
    "# df_sub = df_sub_date[df_sub_date[\"eventType\"] == e].copy()\n",
    "# basal = oop.get_setting_at_times(df_sub['time'], col_profile, req_setting=\"basal\")\n",
    "# df_sub['basal_difference'] = np.multiply(np.subtract(df_sub['absolute'], basal), df_sub['duration']/60)\n",
    "# basal_adjustment = df_sub.groupby([df_sub['time'].dt.date])['basal_difference'].sum()\n",
    "\n"
   ]
  },
  {
   "cell_type": "code",
   "execution_count": null,
   "id": "9c2dd553-ebdf-4eaf-9969-7ab2a776de05",
   "metadata": {},
   "outputs": [],
   "source": []
  }
 ],
 "metadata": {
  "kernelspec": {
   "display_name": "Python 3 (ipykernel)",
   "language": "python",
   "name": "python3"
  },
  "language_info": {
   "codemirror_mode": {
    "name": "ipython",
    "version": 3
   },
   "file_extension": ".py",
   "mimetype": "text/x-python",
   "name": "python",
   "nbconvert_exporter": "python",
   "pygments_lexer": "ipython3",
   "version": "3.10.13"
  }
 },
 "nbformat": 4,
 "nbformat_minor": 5
}
