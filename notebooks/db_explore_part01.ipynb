{
 "cells": [
  {
   "cell_type": "markdown",
   "id": "c1036983-ddb9-44ec-8534-568652d72ee6",
   "metadata": {},
   "source": [
    "# MongodB - data exploration, part 1\n",
    "I mean technically it's not really part 1. Maybe 1.5 or something. But it's the first notebook.\n",
    "\n",
    "The tools I'm using in this notebook are being used for a specific purpose - accessing a MongoDB database with type 1 diabetes Looping data in it. But the pymongo and pymongo-arrow tools I'm using are really general - so maybe this will be a helpful example beyond this specific use-case. "
   ]
  },
  {
   "cell_type": "code",
   "execution_count": 2,
   "id": "cd32a883-57dd-479d-a223-b9641f71733b",
   "metadata": {
    "tags": []
   },
   "outputs": [],
   "source": [
    "# Load the module for accessing the Mongo database.\n",
    "from mdb_tools import load_data as ld"
   ]
  },
  {
   "cell_type": "markdown",
   "id": "a858ebdb-f582-4d30-ac30-3a387b933dd9",
   "metadata": {},
   "source": [
    "You can get help on any function, including this one that I just made, using the \"help\"."
   ]
  },
  {
   "cell_type": "code",
   "execution_count": 3,
   "id": "b824b909-1469-4305-90c8-d1c13d0000bd",
   "metadata": {
    "tags": []
   },
   "outputs": [
    {
     "name": "stdout",
     "output_type": "stream",
     "text": [
      "Help on function get_collections in module mdb_tools.load_data:\n",
      "\n",
      "get_collections(yml_secrets_file)\n",
      "    Using the URI for the mongodb database, load a set of collections (the selection is currently hard-coded\n",
      "    \n",
      "    Example usage:\n",
      "    col_entries, col_treatments, col_profile, col_device_status = ld.get_collections(yml_secrets_file)\n",
      "    \n",
      "    Args:\n",
      "        yml_secrets_file (str): path to a yml file containing the URI and mongodB name.\n",
      "    \n",
      "    Returns: A tuple containing a specific set of collections (basically, tables, from the mongo database: entries, treatments, profile, and device status, in that order.\n",
      "\n"
     ]
    }
   ],
   "source": [
    "help(ld.get_collections)"
   ]
  },
  {
   "cell_type": "markdown",
   "id": "779836a2-ea4a-410b-bae1-8705421ec859",
   "metadata": {},
   "source": [
    "You can only access a Mongo database if you have a URI with a password and database name in it. That needs to be a secret, so of course I'm not putting it into a public github repository! There are a many approaches you could choose, but I decided to go with a yml file that lives outside the repository."
   ]
  },
  {
   "cell_type": "code",
   "execution_count": 12,
   "id": "2478020b-e7b1-483f-a5e3-f81981021bcc",
   "metadata": {},
   "outputs": [],
   "source": [
    "yml_secrets_file = '../secrets/mdb_secrets.yml'\n",
    "\n",
    "# Access the database using the yml secrets file, and get a specific set of \"collections\"\n",
    "col_entries, col_treatments, col_profile, col_device_status = ld.get_collections(yml_secrets_file)"
   ]
  },
  {
   "cell_type": "markdown",
   "id": "6d9a5e97-a825-49d5-822e-2d791431abc4",
   "metadata": {},
   "source": [
    "Each collection contains a number of \"documents\". This next code cell shows how you can quickly access one document in a collection. You can see that it looks a bit like a python dictionary. This is an example of a document from the \"entries\" collection, wand it shows information from the continuous glucose monitor (CGM). "
   ]
  },
  {
   "cell_type": "code",
   "execution_count": 14,
   "id": "15ada91d-c60a-4028-9357-564f74024cdf",
   "metadata": {
    "tags": []
   },
   "outputs": [
    {
     "data": {
      "text/plain": [
       "{'_id': ObjectId('640f53dedda681546abb714e'),\n",
       " 'sgv': 163,\n",
       " 'date': 1678724324000.0,\n",
       " 'dateString': '2023-03-13T16:18:44.000Z',\n",
       " 'trend': 4,\n",
       " 'direction': 'Flat',\n",
       " 'device': 'share2',\n",
       " 'type': 'sgv',\n",
       " 'utcOffset': 0,\n",
       " 'sysTime': '2023-03-13T16:18:44.000Z'}"
      ]
     },
     "execution_count": 14,
     "metadata": {},
     "output_type": "execute_result"
    }
   ],
   "source": [
    "col_entries.find_one()"
   ]
  },
  {
   "cell_type": "code",
   "execution_count": null,
   "id": "5601e9b6-8dbf-49e9-9641-a29c473c4540",
   "metadata": {},
   "outputs": [],
   "source": []
  }
 ],
 "metadata": {
  "kernelspec": {
   "display_name": "Python 3 (ipykernel)",
   "language": "python",
   "name": "python3"
  },
  "language_info": {
   "codemirror_mode": {
    "name": "ipython",
    "version": 3
   },
   "file_extension": ".py",
   "mimetype": "text/x-python",
   "name": "python",
   "nbconvert_exporter": "python",
   "pygments_lexer": "ipython3",
   "version": "3.10.13"
  }
 },
 "nbformat": 4,
 "nbformat_minor": 5
}
