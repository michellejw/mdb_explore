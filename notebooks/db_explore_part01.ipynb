{
 "cells": [
  {
   "cell_type": "markdown",
   "id": "c1036983-ddb9-44ec-8534-568652d72ee6",
   "metadata": {},
   "source": [
    "# MongodB - data exploration, part 1\n",
    "I mean technically it's not really part 1. Maybe 1.5 or something. But it's the first notebook.\n",
    "\n",
    "The tools I'm using in this notebook are being used for a specific purpose - accessing a MongoDB database with type 1 diabetes Looping data in it. But the pymongo and pymongo-arrow tools I'm using are really general - so maybe this will be a helpful example beyond this specific use-case. "
   ]
  },
  {
   "cell_type": "code",
   "execution_count": 9,
   "id": "cd32a883-57dd-479d-a223-b9641f71733b",
   "metadata": {
    "tags": []
   },
   "outputs": [],
   "source": [
    "# Load the module for accessing the Mongo database.\n",
    "from mdb_tools import load_data as ld\n",
    "from pymongoarrow.api import Schema\n",
    "import pyarrow as pa"
   ]
  },
  {
   "cell_type": "markdown",
   "id": "a858ebdb-f582-4d30-ac30-3a387b933dd9",
   "metadata": {},
   "source": [
    "You can get help on any function, including this one that I just made, using the \"help\"."
   ]
  },
  {
   "cell_type": "code",
   "execution_count": 3,
   "id": "b824b909-1469-4305-90c8-d1c13d0000bd",
   "metadata": {
    "tags": []
   },
   "outputs": [
    {
     "name": "stdout",
     "output_type": "stream",
     "text": [
      "Help on function get_collections in module mdb_tools.load_data:\n",
      "\n",
      "get_collections(yml_secrets_file)\n",
      "    Using the URI for the mongodb database, load a set of collections (the selection is currently hard-coded\n",
      "    \n",
      "    Example usage:\n",
      "    col_entries, col_treatments, col_profile, col_device_status = ld.get_collections(yml_secrets_file)\n",
      "    \n",
      "    Args:\n",
      "        yml_secrets_file (str): path to a yml file containing the URI and mongodB name.\n",
      "    \n",
      "    Returns: A tuple containing a specific set of collections (basically, tables, from the mongo database: entries, treatments, profile, and device status, in that order.\n",
      "\n"
     ]
    }
   ],
   "source": [
    "help(ld.get_collections)"
   ]
  },
  {
   "cell_type": "markdown",
   "id": "779836a2-ea4a-410b-bae1-8705421ec859",
   "metadata": {},
   "source": [
    "You can only access a Mongo database if you have a URI with a password and database name in it. That needs to be a secret, so of course I'm not putting it into a public github repository! There are a many approaches you could choose, but I decided to go with a yml file that lives outside the repository."
   ]
  },
  {
   "cell_type": "code",
   "execution_count": 13,
   "id": "2478020b-e7b1-483f-a5e3-f81981021bcc",
   "metadata": {},
   "outputs": [],
   "source": [
    "yml_secrets_file = '../secrets/mdb_secrets.yml'\n",
    "\n",
    "# Access the database using the yml secrets file, and get a specific set of \"collections\"\n",
    "col_entries, col_treatments, col_profile, col_devicestatus = ld.get_collections(yml_secrets_file)"
   ]
  },
  {
   "cell_type": "markdown",
   "id": "6d9a5e97-a825-49d5-822e-2d791431abc4",
   "metadata": {},
   "source": [
    "Each collection contains a number of \"documents\". This next code cell shows how you can quickly access one document in a collection. You can see that it looks a bit like a python dictionary. This is an example of a document from the \"entries\" collection, and it shows information from the continuous glucose monitor (CGM). The blood glucose value is listed as \"sgv\". "
   ]
  },
  {
   "cell_type": "code",
   "execution_count": 5,
   "id": "15ada91d-c60a-4028-9357-564f74024cdf",
   "metadata": {
    "tags": []
   },
   "outputs": [
    {
     "data": {
      "text/plain": [
       "{'_id': ObjectId('640f53dedda681546abb714e'),\n",
       " 'sgv': 163,\n",
       " 'date': 1678724324000.0,\n",
       " 'dateString': '2023-03-13T16:18:44.000Z',\n",
       " 'trend': 4,\n",
       " 'direction': 'Flat',\n",
       " 'device': 'share2',\n",
       " 'type': 'sgv',\n",
       " 'utcOffset': 0,\n",
       " 'sysTime': '2023-03-13T16:18:44.000Z'}"
      ]
     },
     "execution_count": 5,
     "metadata": {},
     "output_type": "execute_result"
    }
   ],
   "source": [
    "col_entries.find_one()"
   ]
  },
  {
   "cell_type": "markdown",
   "id": "51a52e84-4818-454d-9d28-c1d94b018ad6",
   "metadata": {},
   "source": [
    "Now we can take some of the data in those collections and convert to pandas dataframes. In order to do this, however, we need to define a schema. The schema basically tells pymongo which data types to expect. We'll start by defining the schemas here. Note that I'm not actually grabbing every possible item from the documents, just a few that I think might be useful. "
   ]
  },
  {
   "cell_type": "code",
   "execution_count": 17,
   "id": "180460d9-6c3e-4dc9-a2de-eea5650bac58",
   "metadata": {
    "tags": []
   },
   "outputs": [],
   "source": [
    "entries_schema = Schema({\n",
    "    'sgv': float,\n",
    "    'dateString': str,\n",
    "})\n",
    "\n",
    "treatments_schema = Schema({\n",
    "    'duration': float,\n",
    "    'amount': float,\n",
    "    'absolute': float,\n",
    "    'timestamp': str,\n",
    "    'created_at': str,\n",
    "    'rate': float,\n",
    "    'temp': str,\n",
    "    'automatic': bool,\n",
    "    'eventType': str,\n",
    "})\n",
    "\n",
    "devicestatus_schema = Schema({\n",
    "    'created_at': str,\n",
    "    'override': {'active': bool},\n",
    "    'loop': {\n",
    "        'predicted': {'values': pa.list_(pa.float64())},\n",
    "        'enacted': {'duration': float,\n",
    "                    'rate': float,\n",
    "                    'bolusVolume': float,\n",
    "                    'received': bool},\n",
    "        'recommendedBolus': float,\n",
    "        'automaticDoseRecommendation': {'bolusVolume': float},\n",
    "        'cob': float,\n",
    "        'iob': {'iob': float}\n",
    "    }\n",
    "})"
   ]
  },
  {
   "cell_type": "markdown",
   "id": "a88694fc-0ceb-4382-9876-a593a6b71161",
   "metadata": {},
   "source": [
    "Next, we can use pymongo arrow to convert to pandas:"
   ]
  },
  {
   "cell_type": "code",
   "execution_count": 18,
   "id": "c9019f48-7a33-4b2e-9509-e7f3cc8ff51f",
   "metadata": {
    "tags": []
   },
   "outputs": [
    {
     "data": {
      "text/html": [
       "<div>\n",
       "<style scoped>\n",
       "    .dataframe tbody tr th:only-of-type {\n",
       "        vertical-align: middle;\n",
       "    }\n",
       "\n",
       "    .dataframe tbody tr th {\n",
       "        vertical-align: top;\n",
       "    }\n",
       "\n",
       "    .dataframe thead th {\n",
       "        text-align: right;\n",
       "    }\n",
       "</style>\n",
       "<table border=\"1\" class=\"dataframe\">\n",
       "  <thead>\n",
       "    <tr style=\"text-align: right;\">\n",
       "      <th></th>\n",
       "      <th>sgv</th>\n",
       "      <th>dateString</th>\n",
       "    </tr>\n",
       "  </thead>\n",
       "  <tbody>\n",
       "    <tr>\n",
       "      <th>0</th>\n",
       "      <td>163.0</td>\n",
       "      <td>2023-03-13T16:18:44.000Z</td>\n",
       "    </tr>\n",
       "    <tr>\n",
       "      <th>1</th>\n",
       "      <td>160.0</td>\n",
       "      <td>2023-03-13T16:13:43.000Z</td>\n",
       "    </tr>\n",
       "    <tr>\n",
       "      <th>2</th>\n",
       "      <td>182.0</td>\n",
       "      <td>2023-03-13T16:43:43.000Z</td>\n",
       "    </tr>\n",
       "    <tr>\n",
       "      <th>3</th>\n",
       "      <td>178.0</td>\n",
       "      <td>2023-03-13T16:38:43.000Z</td>\n",
       "    </tr>\n",
       "    <tr>\n",
       "      <th>4</th>\n",
       "      <td>178.0</td>\n",
       "      <td>2023-03-13T16:33:43.000Z</td>\n",
       "    </tr>\n",
       "    <tr>\n",
       "      <th>...</th>\n",
       "      <td>...</td>\n",
       "      <td>...</td>\n",
       "    </tr>\n",
       "    <tr>\n",
       "      <th>52344</th>\n",
       "      <td>207.0</td>\n",
       "      <td>2023-10-18T12:24:21.000Z</td>\n",
       "    </tr>\n",
       "    <tr>\n",
       "      <th>52345</th>\n",
       "      <td>228.0</td>\n",
       "      <td>2023-10-18T12:29:21.000Z</td>\n",
       "    </tr>\n",
       "    <tr>\n",
       "      <th>52346</th>\n",
       "      <td>247.0</td>\n",
       "      <td>2023-10-18T12:34:21.000Z</td>\n",
       "    </tr>\n",
       "    <tr>\n",
       "      <th>52347</th>\n",
       "      <td>265.0</td>\n",
       "      <td>2023-10-18T12:39:21.000Z</td>\n",
       "    </tr>\n",
       "    <tr>\n",
       "      <th>52348</th>\n",
       "      <td>272.0</td>\n",
       "      <td>2023-10-18T12:44:21.000Z</td>\n",
       "    </tr>\n",
       "  </tbody>\n",
       "</table>\n",
       "<p>52349 rows × 2 columns</p>\n",
       "</div>"
      ],
      "text/plain": [
       "         sgv                dateString\n",
       "0      163.0  2023-03-13T16:18:44.000Z\n",
       "1      160.0  2023-03-13T16:13:43.000Z\n",
       "2      182.0  2023-03-13T16:43:43.000Z\n",
       "3      178.0  2023-03-13T16:38:43.000Z\n",
       "4      178.0  2023-03-13T16:33:43.000Z\n",
       "...      ...                       ...\n",
       "52344  207.0  2023-10-18T12:24:21.000Z\n",
       "52345  228.0  2023-10-18T12:29:21.000Z\n",
       "52346  247.0  2023-10-18T12:34:21.000Z\n",
       "52347  265.0  2023-10-18T12:39:21.000Z\n",
       "52348  272.0  2023-10-18T12:44:21.000Z\n",
       "\n",
       "[52349 rows x 2 columns]"
      ]
     },
     "execution_count": 18,
     "metadata": {},
     "output_type": "execute_result"
    }
   ],
   "source": [
    "df_entries = col_entries.find_pandas_all({}, schema=entries_schema)\n",
    "df_treatments = col_treatments.find_pandas_all({}, schema=treatments_schema)\n",
    "df_devicestatus = col_devicestatus.find_pandas_all({}, schema=devicestatus_schema)\n",
    "\n",
    "df_entries"
   ]
  },
  {
   "cell_type": "markdown",
   "id": "2be3d689-edc3-4e6d-b5aa-6d9275034202",
   "metadata": {},
   "source": [
    "So there we have it - data! Let the fun begin :D"
   ]
  },
  {
   "cell_type": "code",
   "execution_count": null,
   "id": "bc567351-731a-4ba2-8b74-354251a9133b",
   "metadata": {},
   "outputs": [],
   "source": []
  }
 ],
 "metadata": {
  "kernelspec": {
   "display_name": "Python 3 (ipykernel)",
   "language": "python",
   "name": "python3"
  },
  "language_info": {
   "codemirror_mode": {
    "name": "ipython",
    "version": 3
   },
   "file_extension": ".py",
   "mimetype": "text/x-python",
   "name": "python",
   "nbconvert_exporter": "python",
   "pygments_lexer": "ipython3",
   "version": "3.10.13"
  }
 },
 "nbformat": 4,
 "nbformat_minor": 5
}
