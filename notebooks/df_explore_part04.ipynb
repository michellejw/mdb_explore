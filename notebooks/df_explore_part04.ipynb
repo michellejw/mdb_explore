{
 "cells": [
  {
   "cell_type": "markdown",
   "id": "ef75d741-efa3-46ed-b991-8b67824de6fd",
   "metadata": {},
   "source": [
    "# Loop data, Part 3: Exploring CGM data (daily stats, etc)\n",
    "\n",
    "Before I put the CGM and Loop datasets together, I want to first just explore the CGM dataset, and think about the types of statistics and summary information I want to pull out of the CGM set. I also have some previous code that I wrote to do really basic visualizations in terms of time in range per day, for example. "
   ]
  },
  {
   "cell_type": "code",
   "execution_count": 57,
   "id": "8668da4b-024a-4168-8d38-4d0ed8a0ffda",
   "metadata": {
    "tags": []
   },
   "outputs": [],
   "source": [
    "import sys\n",
    "sys.path.append(\"../\")\n",
    "\n",
    "from mdb_tools import load_data as ld\n",
    "from mdb_tools import schemas\n",
    "from mdb_tools import loop_stats as oop\n",
    "from mdb_tools import sugar_plots as sp\n",
    "\n",
    "import pandas as pd\n",
    "import numpy as np\n",
    "\n",
    "import matplotlib.pyplot as plt\n",
    "%matplotlib widget"
   ]
  },
  {
   "cell_type": "code",
   "execution_count": null,
   "id": "71bbf36d-18b6-4584-829e-09ed81ddacc4",
   "metadata": {
    "tags": []
   },
   "outputs": [],
   "source": [
    "yml_secrets_file = '../../secrets/mdb_secrets.yml'\n",
    "\n",
    "# Access the database using the yml secrets file, and get a specific set of \"collections\"\n",
    "col_entries, col_treatments, col_profile, col_devicestatus = ld.get_collections(yml_secrets_file)\n",
    "\n",
    "# Grab schemas\n",
    "entries_schema, treatments_schema, devicestatus_schema = schemas.mdb_schemas()\n",
    "\n",
    "# Load\n",
    "df_entries = col_entries.find_pandas_all({}, schema=entries_schema)\n",
    "df_treatments = col_treatments.find_pandas_all({}, schema=treatments_schema)\n",
    "df_devicestatus = col_devicestatus.find_pandas_all({}, schema=devicestatus_schema)\n",
    "\n",
    "# Convert the time string to datetime format (not converting time zone this time!)\n",
    "df_entries[\"time\"] = pd.to_datetime(df_entries[\"dateString\"])\n"
   ]
  },
  {
   "cell_type": "markdown",
   "id": "b9b6d1fe-1065-49d5-9429-fe4f02c07193",
   "metadata": {},
   "source": [
    "With only a little bit of fussing, I managed to grab the code I wrote previously to plot time in range. I had to adjust it to accept more generic input arguments, but it pretty much works as it's meant to. The only issue is that we have a really large gap in the data between early August and late September (when we started Looping). Not sure what happened there, and not sure those data are recoverable."
   ]
  },
  {
   "cell_type": "code",
   "execution_count": null,
   "id": "a110805a-cfea-478e-a986-1ab7ff7f988d",
   "metadata": {
    "tags": []
   },
   "outputs": [],
   "source": [
    "df_cgm_daily = oop.daily_cgm_stats(df_entries[\"time\"], df_entries[\"sgv\"])\n",
    "\n",
    "sp.daily_tir(df_entries[\"time\"], df_entries[\"sgv\"]);"
   ]
  },
  {
   "cell_type": "markdown",
   "id": "6f513322-a147-4649-828e-9b233f229613",
   "metadata": {},
   "source": [
    "# Attempt to pull loop settings at specific times\n",
    "\n",
    "Let's see if I can pull together the things I've been building... I've got CGM data at specific times, and I've functions that return the loop settings at any requested set of times. Seems promising!\n"
   ]
  },
  {
   "cell_type": "code",
   "execution_count": null,
   "id": "1be25fb5-178e-4da0-b9d1-32c47d35bd07",
   "metadata": {
    "tags": []
   },
   "outputs": [],
   "source": [
    "in_times = df_entries[\"time\"]\n",
    "bg = df_entries[\"sgv\"]\n",
    "\n",
    "# Pulling settings at each CGM time - making sure it's working!\n",
    "basal = oop.get_setting_at_times(in_times, col_profile, req_setting = \"basal\", req_profile = \"Default\")\n",
    "carb_ratio = oop.get_setting_at_times(in_times, col_profile, req_setting = \"carbratio\", req_profile = \"Default\")\n",
    "sens = oop.get_setting_at_times(in_times, col_profile, req_setting = \"sens\", req_profile = \"Default\")\n",
    "\n",
    "df_bg = pd.DataFrame(np.transpose([in_times.dt.tz_convert('US/Eastern'), bg, basal, carb_ratio, sens]), \n",
    "                                  columns=['time', 'bg', 'basal', 'carb_ratio', 'sens'],\n",
    "                                  index=in_times.dt.tz_convert('US/Eastern')).dropna()\n",
    "\n",
    "# Sort the time indices\n",
    "df_bg.sort_index(inplace=True)"
   ]
  },
  {
   "cell_type": "code",
   "execution_count": null,
   "id": "4172766a-761a-497b-9159-771a24c2be1a",
   "metadata": {
    "tags": []
   },
   "outputs": [],
   "source": [
    "df_bg.head()"
   ]
  },
  {
   "cell_type": "markdown",
   "id": "ee228031-8290-45e0-9657-73145d4f41ec",
   "metadata": {},
   "source": [
    "### BG vs time\n",
    "\n",
    "The next three plots are all just showing the same thing - BG vs time, just looking at it using different plotting methods. First, a plain matplotlib plot. Second, a plot built using hvplot. Third, a built-in hvplot interactive plot where you have some additional GUI controls for exploring the dataframe."
   ]
  },
  {
   "cell_type": "code",
   "execution_count": null,
   "id": "fab6228e-6c72-44e5-8ac1-260c0154812b",
   "metadata": {
    "tags": []
   },
   "outputs": [],
   "source": [
    "fig2, ax2 = plt.subplots(1,1)\n",
    "ax2.plot(in_times, bg, '.');\n"
   ]
  },
  {
   "cell_type": "code",
   "execution_count": null,
   "id": "a68c0a12-145f-4871-998e-432b490d806a",
   "metadata": {
    "tags": []
   },
   "outputs": [],
   "source": [
    "import hvplot.pandas #noqa\n",
    "\n",
    "df_bg.hvplot.scatter(x='time', y='bg')"
   ]
  },
  {
   "cell_type": "code",
   "execution_count": null,
   "id": "f5d2817d-07a2-49f8-94ea-ec99e2aac686",
   "metadata": {
    "tags": []
   },
   "outputs": [],
   "source": [
    "explorer = df_bg.hvplot.explorer(x='time', y='bg', kind='scatter', by=['sens'])\n",
    "explorer"
   ]
  },
  {
   "cell_type": "markdown",
   "id": "0814be95-df74-4d20-90fa-aa564a01f90a",
   "metadata": {
    "tags": []
   },
   "source": [
    "## Splitting out time chunks\n",
    "\n",
    "I am not really that interested in the earlier data - before that big gap. We didn't have Loop set up during that time period so there's less to look at on that side of things. And the newer data are more relevant to determining how to update treatment settings etc. \n",
    "\n",
    "So now I'm going to make a little function that pulls out only the time period I'm intrested in. "
   ]
  },
  {
   "cell_type": "code",
   "execution_count": null,
   "id": "251f3360-710f-4a53-9efc-b960e49ff742",
   "metadata": {
    "tags": []
   },
   "outputs": [],
   "source": [
    "df_sub = df_bg.loc['2023-09-27':]\n",
    "df_sub.head()"
   ]
  },
  {
   "cell_type": "code",
   "execution_count": null,
   "id": "4e096eb4-d42c-4f1f-90cc-14117209bbfc",
   "metadata": {
    "tags": []
   },
   "outputs": [],
   "source": [
    "df_sub.hvplot.scatter(x='time', y='bg')"
   ]
  },
  {
   "cell_type": "code",
   "execution_count": null,
   "id": "eec66d7c-1599-4a57-be87-d76eb2022cd3",
   "metadata": {},
   "outputs": [],
   "source": []
  }
 ],
 "metadata": {
  "kernelspec": {
   "display_name": "Python 3 (ipykernel)",
   "language": "python",
   "name": "python3"
  },
  "language_info": {
   "codemirror_mode": {
    "name": "ipython",
    "version": 3
   },
   "file_extension": ".py",
   "mimetype": "text/x-python",
   "name": "python",
   "nbconvert_exporter": "python",
   "pygments_lexer": "ipython3",
   "version": "3.10.13"
  }
 },
 "nbformat": 4,
 "nbformat_minor": 5
}
