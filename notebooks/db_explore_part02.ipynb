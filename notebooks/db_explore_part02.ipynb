{
 "cells": [
  {
   "cell_type": "markdown",
   "id": "9b60c031-f2ec-4ef7-9cce-1f0ffa41b0ba",
   "metadata": {},
   "source": [
    "# MongodB - data exploration, part 2\n",
    "\n",
    "This time I'm just starting to organize things... Getting time into pandas datetime format so I can work with it more easily and start chipping away at pulling carb ratios and other settings out of the mongodb at requested times."
   ]
  },
  {
   "cell_type": "code",
   "execution_count": 33,
   "id": "2a271828-c894-47cf-9f7c-7d605c18d68c",
   "metadata": {
    "tags": []
   },
   "outputs": [],
   "source": [
    "import sys\n",
    "sys.path.append(\"../\")\n",
    "\n",
    "from mdb_tools import load_data as ld\n",
    "from mdb_tools import loop_stats as oop\n",
    "from mdb_tools import schemas\n",
    "from pymongoarrow.api import Schema\n",
    "import pyarrow as pa\n",
    "\n",
    "import numpy as np\n",
    "import pandas as pd\n",
    "import matplotlib.pyplot as plt\n"
   ]
  },
  {
   "cell_type": "code",
   "execution_count": 34,
   "id": "5cfdd050-d33b-4bf6-9736-a177a31b689f",
   "metadata": {
    "tags": []
   },
   "outputs": [],
   "source": [
    "yml_secrets_file = '../../secrets/mdb_secrets.yml'\n",
    "\n",
    "# Access the database using the yml secrets file, and get a specific set of \"collections\"\n",
    "col_entries, col_treatments, col_profile, col_devicestatus = ld.get_collections(yml_secrets_file)\n",
    "\n",
    "# Grab schemas\n",
    "entries_schema, treatments_schema, devicestatus_schema = schemas.mdb_schemas() \n",
    "\n",
    "# Load \n",
    "df_entries = col_entries.find_pandas_all({}, schema=entries_schema)\n",
    "df_treatments = col_treatments.find_pandas_all({}, schema=treatments_schema)\n",
    "df_devicestatus = col_devicestatus.find_pandas_all({}, schema=devicestatus_schema)"
   ]
  },
  {
   "cell_type": "code",
   "execution_count": 35,
   "id": "b5e320fb-63fb-4aab-bb8e-e9b907082c11",
   "metadata": {
    "tags": []
   },
   "outputs": [
    {
     "data": {
      "text/html": [
       "<div>\n",
       "<style scoped>\n",
       "    .dataframe tbody tr th:only-of-type {\n",
       "        vertical-align: middle;\n",
       "    }\n",
       "\n",
       "    .dataframe tbody tr th {\n",
       "        vertical-align: top;\n",
       "    }\n",
       "\n",
       "    .dataframe thead th {\n",
       "        text-align: right;\n",
       "    }\n",
       "</style>\n",
       "<table border=\"1\" class=\"dataframe\">\n",
       "  <thead>\n",
       "    <tr style=\"text-align: right;\">\n",
       "      <th></th>\n",
       "      <th>sgv</th>\n",
       "      <th>dateString</th>\n",
       "      <th>time</th>\n",
       "      <th>yearday</th>\n",
       "    </tr>\n",
       "  </thead>\n",
       "  <tbody>\n",
       "    <tr>\n",
       "      <th>54939</th>\n",
       "      <td>308.0</td>\n",
       "      <td>2023-10-25T12:14:38.000Z</td>\n",
       "      <td>2023-10-25 08:14:38-04:00</td>\n",
       "      <td>2023-298</td>\n",
       "    </tr>\n",
       "    <tr>\n",
       "      <th>54940</th>\n",
       "      <td>306.0</td>\n",
       "      <td>2023-10-25T12:19:39.000Z</td>\n",
       "      <td>2023-10-25 08:19:39-04:00</td>\n",
       "      <td>2023-298</td>\n",
       "    </tr>\n",
       "    <tr>\n",
       "      <th>54941</th>\n",
       "      <td>308.0</td>\n",
       "      <td>2023-10-25T12:24:39.000Z</td>\n",
       "      <td>2023-10-25 08:24:39-04:00</td>\n",
       "      <td>2023-298</td>\n",
       "    </tr>\n",
       "    <tr>\n",
       "      <th>54942</th>\n",
       "      <td>308.0</td>\n",
       "      <td>2023-10-25T12:29:39.000Z</td>\n",
       "      <td>2023-10-25 08:29:39-04:00</td>\n",
       "      <td>2023-298</td>\n",
       "    </tr>\n",
       "    <tr>\n",
       "      <th>54943</th>\n",
       "      <td>309.0</td>\n",
       "      <td>2023-10-25T12:34:39.000Z</td>\n",
       "      <td>2023-10-25 08:34:39-04:00</td>\n",
       "      <td>2023-298</td>\n",
       "    </tr>\n",
       "  </tbody>\n",
       "</table>\n",
       "</div>"
      ],
      "text/plain": [
       "         sgv                dateString                      time   yearday\n",
       "54939  308.0  2023-10-25T12:14:38.000Z 2023-10-25 08:14:38-04:00  2023-298\n",
       "54940  306.0  2023-10-25T12:19:39.000Z 2023-10-25 08:19:39-04:00  2023-298\n",
       "54941  308.0  2023-10-25T12:24:39.000Z 2023-10-25 08:24:39-04:00  2023-298\n",
       "54942  308.0  2023-10-25T12:29:39.000Z 2023-10-25 08:29:39-04:00  2023-298\n",
       "54943  309.0  2023-10-25T12:34:39.000Z 2023-10-25 08:34:39-04:00  2023-298"
      ]
     },
     "execution_count": 35,
     "metadata": {},
     "output_type": "execute_result"
    }
   ],
   "source": [
    "# Convert the time string (which is in GMT) to datetime format and to the requested time zone\n",
    "# (Note - I think I should be getting that tz from the device settings... also check on dexcom vs loop time zones)\n",
    "requested_time_zone = 'US/Eastern'\n",
    "df_entries[\"time\"] = pd.to_datetime(df_entries[\"dateString\"]).dt.tz_convert('US/Eastern')\n",
    "\n",
    "# Make a new column that has year-day as strings\n",
    "df_entries[\"yearday\"] = stats.get_yeardays(df_entries[\"time\"])\n",
    "\n",
    "df_entries.tail()"
   ]
  },
  {
   "cell_type": "markdown",
   "id": "848dd0e6-2301-4c15-986c-19708b0cbb15",
   "metadata": {},
   "source": [
    "## Getting carb ratios\n",
    "\n",
    "Extracting data about carb ratios is a little more complicated because any given document in the profile data collection has one time stamp but one or more carb ratios. Next I'm creating a function that accepts any time stamp and returns the active carb ratio at that time. \n",
    "\n",
    "To do this, I'll need to find the most recent previous profile entry and then look at the carb ratio that would be relevant for that time of day. \n",
    "\n",
    "The following function extracts the carb ratio by default but you can also request other settings like basal rate or insulin sensitivity.\n"
   ]
  },
  {
   "cell_type": "code",
   "execution_count": 6,
   "id": "c6268830-2777-4204-adef-e056e2343eb3",
   "metadata": {
    "tags": []
   },
   "outputs": [],
   "source": [
    "def get_setting_at_times(in_times, col_prof, req_setting = \"carbratio\", req_profile = \"Default\"):\n",
    "    \"\"\"\n",
    "    A function that returns the requested profile setting from a profile collection at requested times\n",
    "    \n",
    "    Args:\n",
    "        in_time (array-like): An array of input / requested times in pandas datetime format\n",
    "        col_prof (mongodb collection): profile collection that includes the carb ratios\n",
    "        req_setting (str): requested profile setting. Can be \"carbratio\", \"sens\", or \"basal\"\n",
    "        req_profile (str): requested profile name. Default is \"Default\".\n",
    "        \n",
    "    Returns: (list) requested setting at the requested date/times\n",
    "    \n",
    "    \"\"\"\n",
    "    # ##### Prep time variables #####\n",
    "    \n",
    "    # Convert in_times array to series (if it isn't already)\n",
    "    in_times = pd.Series(in_times)\n",
    "    \n",
    "    # Convert requested input times to unix\n",
    "    in_times_unix = in_times.view('int64')\n",
    "    \n",
    "    # Compute seconds elapsed in current day (to get at the current carb ratio)\n",
    "    seconds_in_day = in_times.dt.hour*3600 + in_times.dt.minute*60 + in_times.dt.second\n",
    "\n",
    "    # ##### Prep profile documents #####\n",
    "    \n",
    "    # Dump every profile document into a list\n",
    "    prof_docs_all = [prof for prof in col_profile.find({})]\n",
    "\n",
    "    # Get all the time stamps and convert to unix time (nanoseconds)\n",
    "    prof_time_unix = [int(prof[\"mills\"])*1e6 for prof in prof_docs_all]\n",
    "\n",
    "    # Get all the \"store\" items in each document\n",
    "    all_store = [doc[\"store\"] for doc in prof_docs_all]\n",
    "    \n",
    "    # Pull out all the keys for each \"store\" \n",
    "    store_keys = [x.keys() for x in all_store]\n",
    "\n",
    "    # Extract the \"store\" info for each document, for any available profiles\n",
    "    all_store_vals = [[doc[key] for key in store_keys[doc_num]] for doc_num, doc in enumerate(all_store)]\n",
    "\n",
    "    # Extract the profile names for each document\n",
    "    all_store_profiles = [[key for key in store_keys[doc_num]] for doc_num, doc in enumerate(all_store)]\n",
    "\n",
    "    # ##### Next, figure out which profile is appropriate for each requested time #####\n",
    "\n",
    "    # Get the indices of the most \"recent\" documents from the collection. Only keep the ones for the requested profile.\n",
    "    doc_idx = [(len([in_time-t for t_idx, t in enumerate(prof_time_unix) if (in_time-t >= 0) & (req_profile in all_store_profiles[t_idx])]) - 1) for in_time in in_times_unix]\n",
    "\n",
    "    # Profile info for each requested time\n",
    "    requested_prof_info = [[all_store[this_doc][prof] for prof in all_store_profiles[this_doc] ] for this_doc in doc_idx]\n",
    "\n",
    "    val_req = []\n",
    "    for idx, prof_info in enumerate(requested_prof_info):\n",
    "        if req_setting in prof_info[0].keys():\n",
    "            carb_ratio = prof_info[0][req_setting]\n",
    "        else: \n",
    "            raise Exception(\"The requested setting, \" + req_setting + \", is not one of: \" + ', '.join(list(prof_info[0].keys())))\n",
    "               \n",
    "        this_req_time = seconds_in_day.iloc[idx]\n",
    "\n",
    "        times = [cr[\"timeAsSeconds\"] for cr in carb_ratio]\n",
    "        crs = [cr[\"value\"] for cr in carb_ratio]\n",
    "\n",
    "        t_diff = this_req_time-times\n",
    "\n",
    "        val_req.append([crs[idx] for idx, x in enumerate(t_diff) if x>0][-1])\n",
    " \n",
    "\n",
    "    return val_req"
   ]
  },
  {
   "cell_type": "markdown",
   "id": "07b724dd-70e3-4dfa-9f8c-5de5282efb1c",
   "metadata": {},
   "source": [
    "As a test, we'll make a \"fake\" time series. I'm just extracting a few times from the entries collection, and then plotting. Please ignore the weird date/time axis - it needs some formatting, but my point here was just to see if it was working at all and to get a little demo plot going. "
   ]
  },
  {
   "cell_type": "code",
   "execution_count": 32,
   "id": "5d39a462-a74b-4495-a6e7-15843f21bd17",
   "metadata": {
    "tags": []
   },
   "outputs": [
    {
     "data": {
      "image/png": "[encoded data removed]",
      "text/plain": [
       "<Figure size 640x480 with 1 Axes>"
      ]
     },
     "metadata": {},
     "output_type": "display_data"
    }
   ],
   "source": [
    "in_times = df_entries[\"time\"].iloc[53700:]\n",
    "\n",
    "basal = get_setting_at_times(in_times, col_profile, req_setting = \"basal\", req_profile = \"Default\")\n",
    "\n",
    "plt.plot(in_times, basal,'.')\n",
    "plt.xlabel('Date/time')\n",
    "plt.ylabel('Basal rate (mg/dL/hour)')\n",
    "plt.grid()"
   ]
  },
  {
   "cell_type": "code",
   "execution_count": null,
   "id": "44b6b468-a125-4935-a162-32805abf9818",
   "metadata": {},
   "outputs": [],
   "source": []
  },
  {
   "cell_type": "code",
   "execution_count": 46,
   "id": "e2adcf5e-0ec7-4821-b643-977b18f93e5d",
   "metadata": {
    "tags": []
   },
   "outputs": [],
   "source": [
    "df_entries[\"time\"] = pd.to_datetime(df_entries[\"dateString\"])\n",
    "in_times = df_entries[\"time\"].iloc[53700:]\n",
    "\n",
    "col_prof = col_profile\n",
    "req_setting = \"carbratio\"\n",
    "req_profile = \"Default\""
   ]
  },
  {
   "cell_type": "code",
   "execution_count": 73,
   "id": "bd72154b-bbeb-478a-9598-4a61f67c192c",
   "metadata": {
    "tags": []
   },
   "outputs": [],
   "source": [
    "\n",
    "# ##### Prep time variables #####\n",
    "\n",
    "# Convert in_times array to series (if it isn't already)\n",
    "in_times = pd.Series(in_times)\n",
    "\n",
    "# Convert requested input times to unix\n",
    "in_times_unix = in_times.view('int64')\n",
    "\n",
    "# Compute seconds elapsed in current day (to get at the current carb ratio)\n",
    "seconds_in_day = in_times.dt.hour*3600 + in_times.dt.minute*60 + in_times.dt.second\n",
    "\n",
    "# ##### Prep profile documents #####\n",
    "\n",
    "# Dump every profile document into a list\n",
    "prof_docs_all = [prof for prof in col_profile.find({})]\n",
    "\n",
    "# Get all the time stamps and convert to unix time (nanoseconds)\n",
    "prof_time_unix = [int(prof[\"mills\"])*1e6 for prof in prof_docs_all]\n",
    "\n",
    "# Get all the \"store\" items in each document\n",
    "all_store = [doc[\"store\"] for doc in prof_docs_all]\n",
    "\n",
    "# Pull out all the keys for each \"store\" \n",
    "store_keys = [x.keys() for x in all_store]\n",
    "\n",
    "# Extract the \"store\" info for each document, for any available profiles\n",
    "all_store_vals = [[doc[key] for key in store_keys[doc_num]] for doc_num, doc in enumerate(all_store)]\n",
    "\n",
    "# Extract the profile names for each document\n",
    "all_store_profiles = [[key for key in store_keys[doc_num]] for doc_num, doc in enumerate(all_store)]\n",
    "\n",
    "# ##### Next, figure out which profile is appropriate for each requested time #####\n",
    "\n",
    "# Get the indices of the most \"recent\" documents from the collection. Only keep the ones for the requested profile.\n",
    "doc_idx = [(len([in_time-t for t_idx, t in enumerate(prof_time_unix) if (in_time-t >= 0) & (req_profile in all_store_profiles[t_idx])]) - 1) for in_time in in_times_unix]\n",
    "\n",
    "# Profile info for each requested time\n",
    "requested_prof_info = [[all_store[this_doc][prof] for prof in all_store_profiles[this_doc] ] for this_doc in doc_idx]\n",
    "\n",
    "val_req = []\n",
    "for idx, prof_info in enumerate(requested_prof_info):\n",
    "    if req_setting in prof_info[0].keys():\n",
    "        carb_ratio = prof_info[0][req_setting]\n",
    "    else: \n",
    "        raise Exception(\"The requested setting, \" + req_setting + \", is not one of: \" + ', '.join(list(prof_info[0].keys())))\n",
    "\n",
    "    # Ensure that the input time zone (CGM) matches the profile/treatment time zone\n",
    "    this_req_time_in = in_times.iloc[idx].tz_convert(prof_info[0]['timezone'])\n",
    "    this_req_time = this_req_time_in.hour*3600 + this_req_time_in.minute*60 + this_req_time_in.second\n",
    "\n",
    "    times = [int(cr[\"time\"].split(':')[0])*3600 + int(cr[\"time\"].split(':')[1])*60 for cr in carb_ratio]\n",
    "    crs = [cr[\"value\"] for cr in carb_ratio]\n",
    "\n",
    "    t_diff = [this_req_time - t for t in times]\n",
    "\n",
    "    val_req.append([crs[idx] for idx, x in enumerate(t_diff) if x>0][-1])\n",
    "\n",
    "\n"
   ]
  },
  {
   "cell_type": "code",
   "execution_count": 91,
   "id": "a98b0f8e-37f2-462c-99ba-99093d7cea2c",
   "metadata": {
    "tags": []
   },
   "outputs": [
    {
     "data": {
      "text/plain": [
       "[0, 19800, 39600, 57600, 72000]"
      ]
     },
     "execution_count": 91,
     "metadata": {},
     "output_type": "execute_result"
    }
   ],
   "source": [
    "[int(cr[\"time\"].split(':')[0])*3600 + int(cr[\"time\"].split(':')[1])*60 for cr in carb_ratio]\n"
   ]
  },
  {
   "cell_type": "code",
   "execution_count": 53,
   "id": "5e1e5ca7-017f-4bdd-8cef-982232c30627",
   "metadata": {
    "tags": []
   },
   "outputs": [
    {
     "data": {
      "text/plain": [
       "Timestamp('2023-10-25 08:34:39-0400', tz='US/Eastern')"
      ]
     },
     "execution_count": 53,
     "metadata": {},
     "output_type": "execute_result"
    }
   ],
   "source": [
    "test = in_times.iloc[idx]\n",
    "test.tz_convert('US/Eastern')"
   ]
  },
  {
   "cell_type": "code",
   "execution_count": 58,
   "id": "c5801500-8f52-4acd-bd98-f5a1d2a0c5bb",
   "metadata": {
    "tags": []
   },
   "outputs": [
    {
     "data": {
      "text/plain": [
       "Timestamp('2023-10-25 08:34:39-0400', tz='Etc/GMT+4')"
      ]
     },
     "execution_count": 58,
     "metadata": {},
     "output_type": "execute_result"
    }
   ],
   "source": [
    "in_times.iloc[idx].tz_convert(prof_info[0]['timezone'])"
   ]
  },
  {
   "cell_type": "code",
   "execution_count": 61,
   "id": "fcebcf7d-0b91-412a-afb7-a7c9f45d95ce",
   "metadata": {
    "tags": []
   },
   "outputs": [
    {
     "data": {
      "text/plain": [
       "30879"
      ]
     },
     "execution_count": 61,
     "metadata": {},
     "output_type": "execute_result"
    }
   ],
   "source": [
    "seconds_in_day = this_req_time_in.hour*3600 + this_req_time_in.minute*60 + this_req_time_in.second\n",
    "seconds_in_day"
   ]
  },
  {
   "cell_type": "raw",
   "id": "6f7bae96-3e24-4dea-ba30-34bcfca7bbc3",
   "metadata": {},
   "source": [
    "this_req_time_in = in_times.iloc[idx].tz_convert(prof_info[0]['timezone'])\n",
    "this_req_time_in"
   ]
  },
  {
   "cell_type": "code",
   "execution_count": 60,
   "id": "df69fd72-2399-4c68-bc46-3afdf9dbeeb8",
   "metadata": {
    "tags": []
   },
   "outputs": [
    {
     "data": {
      "text/plain": [
       "Timestamp('2023-10-25 08:34:39-0400', tz='Etc/GMT+4')"
      ]
     },
     "execution_count": 60,
     "metadata": {},
     "output_type": "execute_result"
    }
   ],
   "source": [
    "this_req_time_in\n"
   ]
  },
  {
   "cell_type": "code",
   "execution_count": 62,
   "id": "ac3ec11b-4d2f-49fc-b111-e82d803cd7bc",
   "metadata": {
    "tags": []
   },
   "outputs": [
    {
     "data": {
      "text/plain": [
       "28800"
      ]
     },
     "execution_count": 62,
     "metadata": {},
     "output_type": "execute_result"
    }
   ],
   "source": [
    "8*3600"
   ]
  },
  {
   "cell_type": "code",
   "execution_count": null,
   "id": "10242800-d0b8-48d7-95ec-773bf1a575e9",
   "metadata": {},
   "outputs": [],
   "source": []
  }
 ],
 "metadata": {
  "kernelspec": {
   "display_name": "Python 3 (ipykernel)",
   "language": "python",
   "name": "python3"
  },
  "language_info": {
   "codemirror_mode": {
    "name": "ipython",
    "version": 3
   },
   "file_extension": ".py",
   "mimetype": "text/x-python",
   "name": "python",
   "nbconvert_exporter": "python",
   "pygments_lexer": "ipython3",
   "version": "3.10.13"
  }
 },
 "nbformat": 4,
 "nbformat_minor": 5
}
