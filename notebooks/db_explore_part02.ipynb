{
 "cells": [
  {
   "cell_type": "markdown",
   "id": "9b60c031-f2ec-4ef7-9cce-1f0ffa41b0ba",
   "metadata": {},
   "source": [
    "# MongodB - data exploration, part 2\n",
    "\n",
    "This time I'm just starting to organize things... Getting time into pandas datetime format so I can work with it more easily and start chipping away at pulling carb ratios out of the mongodb at a requested time."
   ]
  },
  {
   "cell_type": "code",
   "execution_count": 224,
   "id": "2a271828-c894-47cf-9f7c-7d605c18d68c",
   "metadata": {
    "tags": []
   },
   "outputs": [],
   "source": [
    "import sys\n",
    "sys.path.append(\"../\")\n",
    "\n",
    "from mdb_tools import load_data as ld\n",
    "from mdb_tools import stats \n",
    "from mdb_tools import schemas\n",
    "from pymongoarrow.api import Schema\n",
    "import pyarrow as pa\n",
    "\n",
    "import numpy as np\n",
    "import pandas as pd"
   ]
  },
  {
   "cell_type": "code",
   "execution_count": 2,
   "id": "5cfdd050-d33b-4bf6-9736-a177a31b689f",
   "metadata": {
    "tags": []
   },
   "outputs": [],
   "source": [
    "yml_secrets_file = '../../secrets/mdb_secrets.yml'\n",
    "\n",
    "# Access the database using the yml secrets file, and get a specific set of \"collections\"\n",
    "col_entries, col_treatments, col_profile, col_devicestatus = ld.get_collections(yml_secrets_file)\n",
    "\n",
    "# Grab schemas\n",
    "entries_schema, treatments_schema, devicestatus_schema = schemas.mdb_schemas() \n",
    "\n",
    "# Load \n",
    "df_entries = col_entries.find_pandas_all({}, schema=entries_schema)\n",
    "df_treatments = col_treatments.find_pandas_all({}, schema=treatments_schema)\n",
    "df_devicestatus = col_devicestatus.find_pandas_all({}, schema=devicestatus_schema)"
   ]
  },
  {
   "cell_type": "code",
   "execution_count": 6,
   "id": "b5e320fb-63fb-4aab-bb8e-e9b907082c11",
   "metadata": {
    "tags": []
   },
   "outputs": [
    {
     "data": {
      "text/html": [
       "<div>\n",
       "<style scoped>\n",
       "    .dataframe tbody tr th:only-of-type {\n",
       "        vertical-align: middle;\n",
       "    }\n",
       "\n",
       "    .dataframe tbody tr th {\n",
       "        vertical-align: top;\n",
       "    }\n",
       "\n",
       "    .dataframe thead th {\n",
       "        text-align: right;\n",
       "    }\n",
       "</style>\n",
       "<table border=\"1\" class=\"dataframe\">\n",
       "  <thead>\n",
       "    <tr style=\"text-align: right;\">\n",
       "      <th></th>\n",
       "      <th>sgv</th>\n",
       "      <th>dateString</th>\n",
       "      <th>time</th>\n",
       "      <th>yearday</th>\n",
       "    </tr>\n",
       "  </thead>\n",
       "  <tbody>\n",
       "    <tr>\n",
       "      <th>0</th>\n",
       "      <td>182.0</td>\n",
       "      <td>2023-03-13T16:43:43.000Z</td>\n",
       "      <td>2023-03-13 16:43:43+00:00</td>\n",
       "      <td>2023-072</td>\n",
       "    </tr>\n",
       "    <tr>\n",
       "      <th>1</th>\n",
       "      <td>160.0</td>\n",
       "      <td>2023-03-13T16:13:43.000Z</td>\n",
       "      <td>2023-03-13 16:13:43+00:00</td>\n",
       "      <td>2023-072</td>\n",
       "    </tr>\n",
       "    <tr>\n",
       "      <th>2</th>\n",
       "      <td>172.0</td>\n",
       "      <td>2023-03-13T16:23:43.000Z</td>\n",
       "      <td>2023-03-13 16:23:43+00:00</td>\n",
       "      <td>2023-072</td>\n",
       "    </tr>\n",
       "    <tr>\n",
       "      <th>3</th>\n",
       "      <td>154.0</td>\n",
       "      <td>2023-03-13T15:58:43.000Z</td>\n",
       "      <td>2023-03-13 15:58:43+00:00</td>\n",
       "      <td>2023-072</td>\n",
       "    </tr>\n",
       "    <tr>\n",
       "      <th>4</th>\n",
       "      <td>157.0</td>\n",
       "      <td>2023-03-13T16:03:43.000Z</td>\n",
       "      <td>2023-03-13 16:03:43+00:00</td>\n",
       "      <td>2023-072</td>\n",
       "    </tr>\n",
       "    <tr>\n",
       "      <th>...</th>\n",
       "      <td>...</td>\n",
       "      <td>...</td>\n",
       "      <td>...</td>\n",
       "      <td>...</td>\n",
       "    </tr>\n",
       "    <tr>\n",
       "      <th>53787</th>\n",
       "      <td>229.0</td>\n",
       "      <td>2023-10-22T15:54:30.000Z</td>\n",
       "      <td>2023-10-22 15:54:30+00:00</td>\n",
       "      <td>2023-295</td>\n",
       "    </tr>\n",
       "    <tr>\n",
       "      <th>53788</th>\n",
       "      <td>222.0</td>\n",
       "      <td>2023-10-22T15:59:31.000Z</td>\n",
       "      <td>2023-10-22 15:59:31+00:00</td>\n",
       "      <td>2023-295</td>\n",
       "    </tr>\n",
       "    <tr>\n",
       "      <th>53789</th>\n",
       "      <td>222.0</td>\n",
       "      <td>2023-10-22T15:59:30.000Z</td>\n",
       "      <td>2023-10-22 15:59:30+00:00</td>\n",
       "      <td>2023-295</td>\n",
       "    </tr>\n",
       "    <tr>\n",
       "      <th>53790</th>\n",
       "      <td>225.0</td>\n",
       "      <td>2023-10-22T16:04:32.000Z</td>\n",
       "      <td>2023-10-22 16:04:32+00:00</td>\n",
       "      <td>2023-295</td>\n",
       "    </tr>\n",
       "    <tr>\n",
       "      <th>53791</th>\n",
       "      <td>225.0</td>\n",
       "      <td>2023-10-22T16:04:31.000Z</td>\n",
       "      <td>2023-10-22 16:04:31+00:00</td>\n",
       "      <td>2023-295</td>\n",
       "    </tr>\n",
       "  </tbody>\n",
       "</table>\n",
       "<p>53792 rows × 4 columns</p>\n",
       "</div>"
      ],
      "text/plain": [
       "         sgv                dateString                      time   yearday\n",
       "0      182.0  2023-03-13T16:43:43.000Z 2023-03-13 16:43:43+00:00  2023-072\n",
       "1      160.0  2023-03-13T16:13:43.000Z 2023-03-13 16:13:43+00:00  2023-072\n",
       "2      172.0  2023-03-13T16:23:43.000Z 2023-03-13 16:23:43+00:00  2023-072\n",
       "3      154.0  2023-03-13T15:58:43.000Z 2023-03-13 15:58:43+00:00  2023-072\n",
       "4      157.0  2023-03-13T16:03:43.000Z 2023-03-13 16:03:43+00:00  2023-072\n",
       "...      ...                       ...                       ...       ...\n",
       "53787  229.0  2023-10-22T15:54:30.000Z 2023-10-22 15:54:30+00:00  2023-295\n",
       "53788  222.0  2023-10-22T15:59:31.000Z 2023-10-22 15:59:31+00:00  2023-295\n",
       "53789  222.0  2023-10-22T15:59:30.000Z 2023-10-22 15:59:30+00:00  2023-295\n",
       "53790  225.0  2023-10-22T16:04:32.000Z 2023-10-22 16:04:32+00:00  2023-295\n",
       "53791  225.0  2023-10-22T16:04:31.000Z 2023-10-22 16:04:31+00:00  2023-295\n",
       "\n",
       "[53792 rows x 4 columns]"
      ]
     },
     "execution_count": 6,
     "metadata": {},
     "output_type": "execute_result"
    }
   ],
   "source": [
    "# Convert the time string to datetime format \n",
    "df_entries[\"time\"] = pd.to_datetime(df_entries[\"dateString\"])\n",
    "\n",
    "# Make a new column that has year-day as strings\n",
    "df_entries[\"yearday\"] = stats.get_yeardays(df_entries[\"time\"])\n",
    "\n",
    "df_entries"
   ]
  },
  {
   "cell_type": "markdown",
   "id": "848dd0e6-2301-4c15-986c-19708b0cbb15",
   "metadata": {},
   "source": [
    "## Getting carb ratios\n",
    "\n",
    "Extracting data about carb ratios is a little more complicated because any given document in the profile data collection has one time stamp but one or more carb ratios. Next I'm creating a function that accepts any time stamp and returns the active carb ratio at that time. \n",
    "\n",
    "To do this, I'll need to find the most recent previous profile entry and then look at the carb ratio that would be relevant for that time of day. \n"
   ]
  },
  {
   "cell_type": "code",
   "execution_count": 484,
   "id": "aa8624b9-1f0f-41fc-95d2-fc82f795bb01",
   "metadata": {
    "tags": []
   },
   "outputs": [],
   "source": [
    "# Convert the date to unix format. I'm doing this to make date/time comparisons easier (work with integers rather than strings)\n",
    "df_entries[\"time_unix\"] = df_entries[\"time\"].view(\"int64\")\n",
    "\n",
    "in_times_2 = df_entries[\"time\"].iloc[53687:]\n"
   ]
  },
  {
   "cell_type": "code",
   "execution_count": 479,
   "id": "c6268830-2777-4204-adef-e056e2343eb3",
   "metadata": {
    "tags": []
   },
   "outputs": [],
   "source": [
    "def get_setting_at_times(in_times, col_prof, req_profile = \"Default\"):\n",
    "    \"\"\"\n",
    "    A function that returns the carb ratio from a profile collection at requested times\n",
    "    \n",
    "    Args:\n",
    "        in_time (array-like): An array of input / requested times in pandas timestamp format\n",
    "        col_prof (mongodb collection): profile collection that includes the carb ratios\n",
    "        req_profile (str): requested profile name. Default is \"Default\".\n",
    "        \n",
    "    Returns: (float) Carb ratio at in_time\n",
    "    \n",
    "    \"\"\"\n",
    "    # ##### Prep time variables #####\n",
    "    \n",
    "    # Convert in_times array to series (if it isn't already)\n",
    "    in_times = pd.Series(in_times)\n",
    "    \n",
    "    # Convert requested input times to unix\n",
    "    in_times_unix = in_times.view('int64')\n",
    "    \n",
    "    # Compute seconds elapsed in current day (to get at the current carb ratio)\n",
    "    seconds_in_day = in_times.dt.hour*3600 + in_times.dt.minute*60 + in_times.dt.second\n",
    "\n",
    "    # ##### Prep profile documents #####\n",
    "    \n",
    "    # Dump every profile document into a list\n",
    "    prof_docs_all = [prof for prof in col_profile.find({})]\n",
    "\n",
    "    # Get all the time stamps and convert to unix time (nanoseconds)\n",
    "    prof_time_unix = [int(prof[\"mills\"])*1e6 for prof in prof_docs_all]\n",
    "\n",
    "    # Get all the \"store\" items in each document\n",
    "    all_store = [doc[\"store\"] for doc in prof_docs_all]\n",
    "    \n",
    "    # Pull out all the keys for each \"store\" \n",
    "    store_keys = [x.keys() for x in all_store]\n",
    "\n",
    "    # Extract the \"store\" info for each document, for any available profiles\n",
    "    all_store_vals = [[doc[key] for key in store_keys[doc_num]] for doc_num, doc in enumerate(all_store)]\n",
    "\n",
    "    # Extract the profile names for each document\n",
    "    all_store_profiles = [[key for key in store_keys[doc_num]] for doc_num, doc in enumerate(all_store)]\n",
    "\n",
    "    # ##### Next, figure out which profile is appropriate for each requested time #####\n",
    "\n",
    "    # Get the indices of the most \"recent\" documents from the collection. Only keep the ones for the requested profile.\n",
    "    doc_idx = [(len([in_time-t for t_idx, t in enumerate(prof_time_unix) if (in_time-t >= 0) & (req_profile in all_store_profiles[t_idx])]) - 1) for in_time in in_times_unix]\n",
    "\n",
    "    # Profile info for each requested time\n",
    "    requested_prof_info = [[all_store[this_doc][prof] for prof in all_store_profiles[this_doc] ] for this_doc in doc_idx]\n",
    "\n",
    "    val_req = []\n",
    "    for idx, prof_info in enumerate(requested_prof_info):\n",
    "        carb_ratio = prof_info[0][\"carbratio\"]\n",
    "        this_req_time = seconds_in_day.iloc[idx]\n",
    "\n",
    "        times = [cr[\"timeAsSeconds\"] for cr in carb_ratio]\n",
    "        crs = [cr[\"value\"] for cr in carb_ratio]\n",
    "\n",
    "        t_diff = this_req_time-times\n",
    "\n",
    "        val_req.append([crs[idx] for idx, x in enumerate(t_diff) if x>0][-1])\n",
    "\n",
    "    return val_req"
   ]
  },
  {
   "cell_type": "code",
   "execution_count": 475,
   "id": "bb24e892-8c6d-460d-89c7-24d969317de6",
   "metadata": {
    "tags": []
   },
   "outputs": [
    {
     "data": {
      "text/plain": [
       "0   2023-10-13 16:43:54+00:00\n",
       "1   2023-10-13 16:48:54+00:00\n",
       "2   2023-10-13 16:48:53+00:00\n",
       "dtype: datetime64[ns, UTC]"
      ]
     },
     "execution_count": 475,
     "metadata": {},
     "output_type": "execute_result"
    }
   ],
   "source": [
    "pd.Series(in_times)\n",
    "pd.Series(np.asarray(in_times))"
   ]
  },
  {
   "cell_type": "code",
   "execution_count": 225,
   "id": "2626735b-10ce-4ab6-8169-b60e6b52b137",
   "metadata": {
    "tags": []
   },
   "outputs": [
    {
     "data": {
      "text/plain": [
       "113"
      ]
     },
     "execution_count": 225,
     "metadata": {},
     "output_type": "execute_result"
    }
   ],
   "source": [
    "# prof_time = [int(pd.Timestamp(prof[\"startDate\"]).timestamp())*1e9 for prof in col_profile.find({})]\n",
    "prof_ms_time = [int(prof[\"mills\"])*1e6 for prof in col_profile.find({})]\n",
    "\n",
    "\n",
    "\n",
    "# Get the index of the most \"recent\" document from the collection\n",
    "t_diff = [in_time-t for t in prof_ms_time]\n",
    "current_prof_doc = np.argmin(t_diff)\n",
    "\n",
    "\n"
   ]
  },
  {
   "cell_type": "code",
   "execution_count": 383,
   "id": "a63027e5-5675-4fe8-b2c0-800f0b33c53c",
   "metadata": {
    "tags": []
   },
   "outputs": [],
   "source": [
    "# Dump every profile document into a list\n",
    "prof_docs_all = [prof for prof in col_profile.find({})]\n",
    "\n",
    "# Get all the time stamps and convert to unix time (nanoseconds)\n",
    "prof_time_unix = [int(prof[\"mills\"])*1e6 for prof in prof_docs_all]\n",
    "\n",
    "# Get all the \"store\" items in each document\n",
    "all_store = [doc[\"store\"] for doc in prof_docs_all]\n",
    "\n",
    "# # Extract JUST the profile info for each document, regardless of profile\n",
    "# all_store_vals = [[doc[key] for key in store_keys[doc_num]] for doc_num, doc in enumerate(all_store)]\n",
    "\n",
    "# # Extract the profile names for each document\n",
    "# all_store_profiles = [[key for key in store_keys[doc_num]] for doc_num, doc in enumerate(all_store)]\n",
    "\n",
    "\n",
    "# Extract JUST the profile info for each document, regardless of profile\n",
    "all_store_vals = [[doc[key] for key in store_keys[doc_num] if key == req_profile] for doc_num, doc in enumerate(all_store)]\n",
    "\n",
    "# Extract the profile names for each document\n",
    "all_store_profiles = [[key for key in store_keys[doc_num] if key == req_profile] for doc_num, doc in enumerate(all_store)]\n",
    "\n",
    "\n"
   ]
  },
  {
   "cell_type": "code",
   "execution_count": 401,
   "id": "447e45cb-535c-4c3d-957d-2e76d0c44157",
   "metadata": {
    "tags": []
   },
   "outputs": [
    {
     "data": {
      "text/plain": [
       "True"
      ]
     },
     "execution_count": 401,
     "metadata": {},
     "output_type": "execute_result"
    }
   ],
   "source": [
    "t_idx = 50\n",
    "t = prof_time_unix[t_idx]\n",
    "req_profile in all_store_profiles[t_idx]"
   ]
  },
  {
   "cell_type": "code",
   "execution_count": 431,
   "id": "2535ea00-653e-42de-837a-77d7a04db839",
   "metadata": {
    "tags": []
   },
   "outputs": [],
   "source": [
    "\n",
    "# ##### Next, figure out which profile is appropriate for each requested time\n",
    "\n",
    "# Get the indices of the most \"recent\" documents from the collection. Only keep the ones for the requested profile name.\n",
    "doc_idx = [(len([in_time-t for t_idx, t in enumerate(prof_time_unix) if (in_time-t >= 0) & (req_profile in all_store_profiles[t_idx])]) - 1) for in_time in in_times_unix]\n",
    "\n",
    "# Profile info for each requested time\n",
    "requested_prof_info = [[all_store[this_doc][prof] for prof in all_store_profiles[this_doc] ] for this_doc in doc_idx]\n",
    "\n",
    "    "
   ]
  },
  {
   "cell_type": "code",
   "execution_count": 439,
   "id": "dd067932-5ab3-46c9-a010-8341d8b32b8f",
   "metadata": {
    "tags": []
   },
   "outputs": [
    {
     "data": {
      "text/plain": [
       "50000    60234\n",
       "50001    60534\n",
       "50002    60533\n",
       "Name: time, dtype: int32"
      ]
     },
     "execution_count": 439,
     "metadata": {},
     "output_type": "execute_result"
    }
   ],
   "source": [
    "# function arg in_time\n",
    "#in_time = df_entries[\"time_unix\"].iloc[50000]\n",
    "#in_times = df_entries[\"time_unix\"].iloc[50000:50005]\n",
    "in_times = df_entries[\"time\"].iloc[50000:50003]\n",
    "in_times_unix = in_times.view('int64')\n",
    "\n",
    "seconds_in_day = in_times.dt.hour*3600 + in_times.dt.minute*60 + in_times.dt.second\n",
    "seconds_in_day"
   ]
  },
  {
   "cell_type": "code",
   "execution_count": 462,
   "id": "6df70719-b17c-4897-8130-77ee6d653d60",
   "metadata": {
    "tags": []
   },
   "outputs": [],
   "source": [
    "requested_prof_info = [[all_store[this_doc][prof] for prof in all_store_profiles[this_doc] \n",
    "                        if prof == req_profile ] for this_doc in doc_idx]\n",
    "\n",
    "val_req = []\n",
    "for idx, prof_info in enumerate(requested_prof_info):\n",
    "    carb_ratio = prof_info[0][\"carbratio\"]\n",
    "    this_req_time = seconds_in_day.iloc[idx]\n",
    "    \n",
    "    times = [cr[\"timeAsSeconds\"] for cr in carb_ratio]\n",
    "    crs = [cr[\"value\"] for cr in carb_ratio]\n",
    "\n",
    "    t_diff = this_req_time-times\n",
    "\n",
    "    val_req.append([crs[idx] for idx, x in enumerate(t_diff) if x>0][-1])\n"
   ]
  },
  {
   "cell_type": "code",
   "execution_count": null,
   "id": "12254ae8-876b-4045-aca2-329457d01b8e",
   "metadata": {},
   "outputs": [],
   "source": [
    "def get_daily_setting(req_prof_info, req_prof_setting, req_time):\n",
    "    \"\"\"\n",
    "    Get either the carb ratio, insulin sensitivity, or basal rate at a particular time\n",
    "    \"\"\""
   ]
  },
  {
   "cell_type": "code",
   "execution_count": 463,
   "id": "cf7d4445-522d-4f22-8adf-15c4fed21120",
   "metadata": {
    "tags": []
   },
   "outputs": [
    {
     "data": {
      "text/plain": [
       "[10, 10, 10]"
      ]
     },
     "execution_count": 463,
     "metadata": {},
     "output_type": "execute_result"
    }
   ],
   "source": [
    "val_req"
   ]
  },
  {
   "cell_type": "code",
   "execution_count": 434,
   "id": "ea8e7bb5-84be-4cf4-a8cc-2774caf0cf10",
   "metadata": {
    "tags": []
   },
   "outputs": [
    {
     "data": {
      "text/plain": [
       "[[{'carbratio': [{'time': '00:00', 'timeAsSeconds': 0, 'value': 15},\n",
       "    {'value': 12, 'timeAsSeconds': 19800, 'time': '05:30'},\n",
       "    {'time': '11:00', 'timeAsSeconds': 39600, 'value': 15},\n",
       "    {'timeAsSeconds': 57600, 'value': 10, 'time': '16:00'},\n",
       "    {'value': 15, 'timeAsSeconds': 72000, 'time': '20:00'}],\n",
       "   'carbs_hr': '0',\n",
       "   'target_high': [{'time': '00:00', 'timeAsSeconds': 0, 'value': 115}],\n",
       "   'units': 'mg/dL',\n",
       "   'timezone': 'ETC/GMT+4',\n",
       "   'sens': [{'value': 190, 'time': '00:00', 'timeAsSeconds': 0},\n",
       "    {'time': '06:00', 'value': 150, 'timeAsSeconds': 21600},\n",
       "    {'time': '12:00', 'timeAsSeconds': 43200, 'value': 215},\n",
       "    {'time': '18:00', 'value': 165, 'timeAsSeconds': 64800}],\n",
       "   'delay': '0',\n",
       "   'target_low': [{'value': 100, 'time': '00:00', 'timeAsSeconds': 0}],\n",
       "   'dia': 6,\n",
       "   'basal': [{'time': '00:00', 'value': 0.35, 'timeAsSeconds': 0},\n",
       "    {'value': 0.25, 'time': '02:30', 'timeAsSeconds': 9000},\n",
       "    {'time': '06:00', 'timeAsSeconds': 21600, 'value': 0.35},\n",
       "    {'value': 0.25, 'time': '12:00', 'timeAsSeconds': 43200},\n",
       "    {'time': '16:00', 'timeAsSeconds': 57600, 'value': 0.35}]}],\n",
       " [{'carbratio': [{'time': '00:00', 'timeAsSeconds': 0, 'value': 15},\n",
       "    {'value': 12, 'timeAsSeconds': 19800, 'time': '05:30'},\n",
       "    {'time': '11:00', 'timeAsSeconds': 39600, 'value': 15},\n",
       "    {'timeAsSeconds': 57600, 'value': 10, 'time': '16:00'},\n",
       "    {'value': 15, 'timeAsSeconds': 72000, 'time': '20:00'}],\n",
       "   'carbs_hr': '0',\n",
       "   'target_high': [{'time': '00:00', 'timeAsSeconds': 0, 'value': 115}],\n",
       "   'units': 'mg/dL',\n",
       "   'timezone': 'ETC/GMT+4',\n",
       "   'sens': [{'value': 190, 'time': '00:00', 'timeAsSeconds': 0},\n",
       "    {'time': '06:00', 'value': 150, 'timeAsSeconds': 21600},\n",
       "    {'time': '12:00', 'timeAsSeconds': 43200, 'value': 215},\n",
       "    {'time': '18:00', 'value': 165, 'timeAsSeconds': 64800}],\n",
       "   'delay': '0',\n",
       "   'target_low': [{'value': 100, 'time': '00:00', 'timeAsSeconds': 0}],\n",
       "   'dia': 6,\n",
       "   'basal': [{'time': '00:00', 'value': 0.35, 'timeAsSeconds': 0},\n",
       "    {'value': 0.25, 'time': '02:30', 'timeAsSeconds': 9000},\n",
       "    {'time': '06:00', 'timeAsSeconds': 21600, 'value': 0.35},\n",
       "    {'value': 0.25, 'time': '12:00', 'timeAsSeconds': 43200},\n",
       "    {'time': '16:00', 'timeAsSeconds': 57600, 'value': 0.35}]}],\n",
       " [{'carbratio': [{'time': '00:00', 'timeAsSeconds': 0, 'value': 15},\n",
       "    {'value': 12, 'timeAsSeconds': 19800, 'time': '05:30'},\n",
       "    {'time': '11:00', 'timeAsSeconds': 39600, 'value': 15},\n",
       "    {'timeAsSeconds': 57600, 'value': 10, 'time': '16:00'},\n",
       "    {'value': 15, 'timeAsSeconds': 72000, 'time': '20:00'}],\n",
       "   'carbs_hr': '0',\n",
       "   'target_high': [{'time': '00:00', 'timeAsSeconds': 0, 'value': 115}],\n",
       "   'units': 'mg/dL',\n",
       "   'timezone': 'ETC/GMT+4',\n",
       "   'sens': [{'value': 190, 'time': '00:00', 'timeAsSeconds': 0},\n",
       "    {'time': '06:00', 'value': 150, 'timeAsSeconds': 21600},\n",
       "    {'time': '12:00', 'timeAsSeconds': 43200, 'value': 215},\n",
       "    {'time': '18:00', 'value': 165, 'timeAsSeconds': 64800}],\n",
       "   'delay': '0',\n",
       "   'target_low': [{'value': 100, 'time': '00:00', 'timeAsSeconds': 0}],\n",
       "   'dia': 6,\n",
       "   'basal': [{'time': '00:00', 'value': 0.35, 'timeAsSeconds': 0},\n",
       "    {'value': 0.25, 'time': '02:30', 'timeAsSeconds': 9000},\n",
       "    {'time': '06:00', 'timeAsSeconds': 21600, 'value': 0.35},\n",
       "    {'value': 0.25, 'time': '12:00', 'timeAsSeconds': 43200},\n",
       "    {'time': '16:00', 'timeAsSeconds': 57600, 'value': 0.35}]}]]"
      ]
     },
     "execution_count": 434,
     "metadata": {},
     "output_type": "execute_result"
    }
   ],
   "source": [
    "# Get the indices of the most \"recent\" documents from the collection. Only keep the ones for the requested profile.\n",
    "doc_idx = [(len([in_time-t for t_idx, t in enumerate(prof_time_unix) if (in_time-t >= 0) & (req_profile in all_store_profiles[t_idx])]) - 1) for in_time in in_times_unix]\n",
    "\n",
    "\n",
    "# Profile info for each requested time\n",
    "# requested_prof_info = [[all_store[this_doc][prof] for prof in all_store_profiles[this_doc] ] for this_doc in doc_idx]\n",
    "requested_prof_info = [[all_store[this_doc][prof] for prof in all_store_profiles[this_doc] if prof == req_profile ] for this_doc in doc_idx]\n",
    "\n",
    "requested_prof_info\n",
    "    "
   ]
  },
  {
   "cell_type": "code",
   "execution_count": 433,
   "id": "45afd4d3-2867-4080-917f-2ecb895451b3",
   "metadata": {
    "tags": []
   },
   "outputs": [
    {
     "data": {
      "text/plain": [
       "50000    1697215434000000000\n",
       "50001    1697215734000000000\n",
       "50002    1697215733000000000\n",
       "Name: time, dtype: int64"
      ]
     },
     "execution_count": 433,
     "metadata": {},
     "output_type": "execute_result"
    }
   ],
   "source": [
    "in_times_unix\n"
   ]
  },
  {
   "cell_type": "code",
   "execution_count": null,
   "id": "f5eb8636-f561-4753-bb0b-975ef86a9ffe",
   "metadata": {},
   "outputs": [],
   "source": []
  }
 ],
 "metadata": {
  "kernelspec": {
   "display_name": "Python 3 (ipykernel)",
   "language": "python",
   "name": "python3"
  },
  "language_info": {
   "codemirror_mode": {
    "name": "ipython",
    "version": 3
   },
   "file_extension": ".py",
   "mimetype": "text/x-python",
   "name": "python",
   "nbconvert_exporter": "python",
   "pygments_lexer": "ipython3",
   "version": "3.10.13"
  }
 },
 "nbformat": 4,
 "nbformat_minor": 5
}
