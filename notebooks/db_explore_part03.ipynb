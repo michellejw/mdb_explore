{
 "cells": [
  {
   "cell_type": "markdown",
   "id": "cbb93bd8-6790-4157-b051-17b3eb3fc8d3",
   "metadata": {},
   "source": [
    "# MongodB and time zones - data exploration, part 3\n",
    "\n",
    "Goals:\n",
    "- Figure out time zones (what's the time zone for CGM data and Loop data?)\n",
    "- Set CGM times to the appropriate time zone(s)\n",
    "- Spot check recent settings to make sure it's working as expected!\n",
    "\n"
   ]
  },
  {
   "cell_type": "code",
   "execution_count": 2,
   "id": "1654c747-2236-4b42-a4c2-8e5c7ac0b23a",
   "metadata": {
    "tags": []
   },
   "outputs": [],
   "source": [
    "import sys\n",
    "sys.path.append(\"../\")\n",
    "\n",
    "from mdb_tools import load_data as ld\n",
    "from mdb_tools import schemas\n",
    "from mdb_tools import loop_stats as oop\n",
    "from pymongoarrow.api import Schema\n",
    "import pyarrow as pa\n",
    "\n",
    "import numpy as np\n",
    "import pandas as pd\n",
    "import matplotlib.pyplot as plt\n"
   ]
  },
  {
   "cell_type": "code",
   "execution_count": 4,
   "id": "b18c51f1-1224-4637-9866-3aa87f159494",
   "metadata": {
    "tags": []
   },
   "outputs": [],
   "source": [
    "yml_secrets_file = '../../secrets/mdb_secrets.yml'\n",
    "\n",
    "# Access the database using the yml secrets file, and get a specific set of \"collections\"\n",
    "col_entries, col_treatments, col_profile, col_devicestatus = ld.get_collections(yml_secrets_file)\n",
    "\n",
    "# Grab schemas\n",
    "entries_schema, treatments_schema, devicestatus_schema = schemas.mdb_schemas() \n",
    "\n",
    "# Load \n",
    "df_entries = col_entries.find_pandas_all({}, schema=entries_schema)\n",
    "df_treatments = col_treatments.find_pandas_all({}, schema=treatments_schema)\n",
    "df_devicestatus = col_devicestatus.find_pandas_all({}, schema=devicestatus_schema)\n",
    "\n",
    "# Convert the time string (which is in GMT) to datetime format (not converting time zone this time!)\n",
    "df_entries[\"time\"] = pd.to_datetime(df_entries[\"dateString\"])\n",
    "\n",
    "# Make a new column that has year-day as strings\n",
    "df_entries[\"yearday\"] = oop.get_yeardays(df_entries[\"time\"])"
   ]
  },
  {
   "cell_type": "markdown",
   "id": "5b1f7c20-da8a-415e-8a6c-db79f474f218",
   "metadata": {},
   "source": [
    "## Get settings\n",
    "Using our handy dandy function from last time, conveniently stowed in the mdb_tools package, I can now pull out the settings data ... "
   ]
  },
  {
   "cell_type": "code",
   "execution_count": 7,
   "id": "53defb59-e4a8-4cbb-af75-d785c445f806",
   "metadata": {
    "tags": []
   },
   "outputs": [
    {
     "data": {
      "image/png": "[encoded data removed]",
      "text/plain": [
       "<Figure size 640x480 with 1 Axes>"
      ]
     },
     "metadata": {},
     "output_type": "display_data"
    }
   ],
   "source": [
    "in_times = df_entries[\"time\"].iloc[53700:]\n",
    "\n",
    "basal = oop.get_setting_at_times(in_times, col_profile, req_setting = \"basal\", req_profile = \"Default\")\n",
    "\n",
    "plt.plot(in_times, basal,'.')\n",
    "plt.xlabel('Date/time')\n",
    "plt.ylabel('Basal rate (mg/dL/hour)')\n",
    "plt.grid()"
   ]
  },
  {
   "cell_type": "markdown",
   "id": "23cc4817-9ade-484b-b6ec-027f9565fa82",
   "metadata": {},
   "source": [
    "*(As an aside can I just ask: why on earth did the date/time axis come out alright this time?? I literally copy-pasted)*"
   ]
  },
  {
   "cell_type": "markdown",
   "id": "89bc9d81-23b8-4764-aa9d-e345271a3885",
   "metadata": {},
   "source": [
    "Anyway it's all great and grand... but what time zone is everyting in? Let's take a peek into the profile collection."
   ]
  },
  {
   "cell_type": "code",
   "execution_count": 15,
   "id": "1dff3800-5932-4a60-8156-c074f0245461",
   "metadata": {
    "tags": []
   },
   "outputs": [
    {
     "data": {
      "text/plain": [
       "{'_id': ObjectId('640f352d6e07c40208d8e59e'),\n",
       " 'defaultProfile': 'Alma',\n",
       " 'store': {'Alma': {'dia': 3,\n",
       "   'carbratio': [{'time': '00:00', 'value': 25, 'timeAsSeconds': 0},\n",
       "    {'time': '05:30', 'value': 15},\n",
       "    {'time': '10:30', 'value': 18},\n",
       "    {'time': '21:00', 'value': 25}],\n",
       "   'carbs_hr': 20,\n",
       "   'delay': 20,\n",
       "   'sens': [{'time': '00:00', 'value': 150, 'timeAsSeconds': 0}],\n",
       "   'timezone': 'US/Eastern',\n",
       "   'basal': [{'time': '00:00', 'value': 0.2, 'timeAsSeconds': 0}],\n",
       "   'target_low': [{'time': '00:00', 'value': 70, 'timeAsSeconds': 0}],\n",
       "   'target_high': [{'time': '00:00', 'value': 180, 'timeAsSeconds': 0}],\n",
       "   'units': 'mg/dl'}},\n",
       " 'startDate': '2022-12-02T00:00:00.000Z',\n",
       " 'mills': 0,\n",
       " 'units': 'mg/dl',\n",
       " 'created_at': '2023-03-13T14:37:33.558Z'}"
      ]
     },
     "execution_count": 15,
     "metadata": {},
     "output_type": "execute_result"
    }
   ],
   "source": [
    "col_profile.find_one()"
   ]
  },
  {
   "cell_type": "markdown",
   "id": "24f1ead6-6fcb-41ee-9e10-a1f29f1ce6ca",
   "metadata": {},
   "source": [
    "In the document above, there is a 'timezone' parameter, and it shows 'US/Eastern'. This is important here because the various settings only refer to time in hours and minutes, so you really need to know get the time zone right to have the treatments working appropriately. \n",
    "\n",
    "This next little function is just a helper function I made to look at the most recent document in a Mongodb collection. "
   ]
  },
  {
   "cell_type": "code",
   "execution_count": 47,
   "id": "3074cedb-6e21-4831-b2fa-a6ec415f46db",
   "metadata": {
    "tags": []
   },
   "outputs": [],
   "source": [
    "def get_last_doc(col):\n",
    "    \"\"\"\n",
    "    Get the last/most recent document in the collection\n",
    "    \"\"\"\n",
    "    return [prof for prof in col.find().skip(col.estimated_document_count() - 1)][0]\n"
   ]
  },
  {
   "cell_type": "markdown",
   "id": "3b9e8a1a-73ce-423f-b967-b7647c8bcd31",
   "metadata": {},
   "source": [
    "Now if I use that function to look at the last document in the col_profile collection, I can see that the timezone here is 'ETC/GMT+4'."
   ]
  },
  {
   "cell_type": "code",
   "execution_count": 48,
   "id": "3674f596-e834-48c7-8052-9ec5472c97d0",
   "metadata": {
    "tags": []
   },
   "outputs": [
    {
     "data": {
      "text/plain": [
       "{'_id': ObjectId('6538ef8df4d651012f4dcdd9'),\n",
       " 'startDate': '2023-10-25T10:35:56Z',\n",
       " 'loopSettings': {'dosingStrategy': 'tempBasalOnly',\n",
       "  'dosingEnabled': True,\n",
       "  'maximumBolus': 8,\n",
       "  'minimumBGGuard': 75,\n",
       "  'preMealTargetRange': [75, 100],\n",
       "  'overridePresets': [{'name': 'Exercise',\n",
       "    'targetRange': [130, 150],\n",
       "    'insulinNeedsScaleFactor': 0.76,\n",
       "    'symbol': '🏃\\u200d♀️',\n",
       "    'duration': 3600}],\n",
       "  'deviceToken': '9192bb4f922d8959a71b446a923e879b5d1a67c957d0f75b9bafed000102cb2a',\n",
       "  'maximumBasalRatePerHour': 1.25,\n",
       "  'bundleIdentifier': 'com.3Q2XX7Y7LW.loopkit.Loop'},\n",
       " 'store': {'Default': {'dia': 6,\n",
       "   'carbs_hr': '0',\n",
       "   'timezone': 'ETC/GMT+4',\n",
       "   'target_high': [{'time': '00:00', 'value': 115, 'timeAsSeconds': 0}],\n",
       "   'carbratio': [{'time': '00:00', 'timeAsSeconds': 0, 'value': 15},\n",
       "    {'timeAsSeconds': 19800, 'value': 11, 'time': '05:30'},\n",
       "    {'value': 12, 'time': '11:00', 'timeAsSeconds': 39600},\n",
       "    {'timeAsSeconds': 57600, 'time': '16:00', 'value': 12},\n",
       "    {'value': 15, 'timeAsSeconds': 72000, 'time': '20:00'}],\n",
       "   'target_low': [{'time': '00:00', 'timeAsSeconds': 0, 'value': 100}],\n",
       "   'sens': [{'time': '00:00', 'timeAsSeconds': 0, 'value': 185},\n",
       "    {'timeAsSeconds': 21600, 'time': '06:00', 'value': 150},\n",
       "    {'time': '13:00', 'value': 250, 'timeAsSeconds': 46800},\n",
       "    {'time': '18:00', 'timeAsSeconds': 64800, 'value': 190}],\n",
       "   'basal': [{'timeAsSeconds': 0, 'time': '00:00', 'value': 0.4},\n",
       "    {'value': 0.25, 'timeAsSeconds': 9000, 'time': '02:30'},\n",
       "    {'time': '06:00', 'timeAsSeconds': 21600, 'value': 0.35},\n",
       "    {'timeAsSeconds': 43200, 'time': '12:00', 'value': 0.25},\n",
       "    {'time': '16:00', 'timeAsSeconds': 57600, 'value': 0.35}],\n",
       "   'units': 'mg/dL',\n",
       "   'delay': '0'}},\n",
       " 'mills': '1698230156950',\n",
       " 'defaultProfile': 'Default',\n",
       " 'units': 'mg/dL',\n",
       " 'enteredBy': 'Loop'}"
      ]
     },
     "execution_count": 48,
     "metadata": {},
     "output_type": "execute_result"
    }
   ],
   "source": [
    "get_last_doc(col_profile)"
   ]
  },
  {
   "cell_type": "markdown",
   "id": "2472769e-0825-411e-b251-15bdf7d3c869",
   "metadata": {},
   "source": [
    "Since the time zone could change at any time (if we travel), then we sort of need to monitor it and use that variable all the time. I think that any time we're looking at the time associated with a CGM value for example, we need to adjust based on the time zone. Above, I had just shifted the entire CGM time series into 'US/Eastern', but that's not really the right approach since it could change."
   ]
  },
  {
   "cell_type": "code",
   "execution_count": 49,
   "id": "b5c55b59-4b22-4317-8072-46b072bbac3e",
   "metadata": {
    "tags": []
   },
   "outputs": [
    {
     "data": {
      "text/plain": [
       "{'_id': ObjectId('65390b676e601e65dbd23cb5'),\n",
       " 'sgv': 309,\n",
       " 'date': 1698237279000.0,\n",
       " 'dateString': '2023-10-25T12:34:39.000Z',\n",
       " 'trend': 4,\n",
       " 'direction': 'Flat',\n",
       " 'device': 'share2',\n",
       " 'type': 'sgv',\n",
       " 'utcOffset': 0,\n",
       " 'sysTime': '2023-10-25T12:34:39.000Z'}"
      ]
     },
     "execution_count": 49,
     "metadata": {},
     "output_type": "execute_result"
    }
   ],
   "source": [
    "get_last_doc(col_entries)"
   ]
  },
  {
   "cell_type": "markdown",
   "id": "5301622b-e5ed-4ea6-b5f9-6d49e7894dd1",
   "metadata": {},
   "source": [
    "I just changed a few things at the bottom of the function that was created yesterday, relating to time zones and calculating seconds elapsed in the day. This is now updated in the module but also copied here just to show what was done:"
   ]
  },
  {
   "cell_type": "code",
   "execution_count": null,
   "id": "b8fcf8a1-c910-4d5c-8933-c1aa2ef0347e",
   "metadata": {},
   "outputs": [],
   "source": [
    "def get_setting_at_times(in_times, col_prof, req_setting=\"carbratio\", req_profile=\"Default\"):\n",
    "    \"\"\"\n",
    "    A function that returns the requested profile setting from a profile collection at requested times\n",
    "\n",
    "    Args:\n",
    "        in_time (array-like): An array of input / requested times in pandas datetime format\n",
    "        col_prof (mongodb collection): profile collection that includes the carb ratios\n",
    "        req_setting (str): requested profile setting. Can be \"carbratio\", \"sens\", or \"basal\"\n",
    "        req_profile (str): requested profile name. Default is \"Default\".\n",
    "\n",
    "    Returns: (list) requested setting at the requested date/times\n",
    "\n",
    "    \"\"\"\n",
    "    # ##### Prep time variables #####\n",
    "\n",
    "    # Convert in_times array to series (if it isn't already)\n",
    "    in_times = pd.Series(in_times)\n",
    "\n",
    "    # Convert requested input times to unix\n",
    "    in_times_unix = in_times.view('int64')\n",
    "\n",
    "    # Compute seconds elapsed in current day (to get at the current carb ratio)\n",
    "    seconds_in_day = in_times.dt.hour * 3600 + in_times.dt.minute * 60 + in_times.dt.second\n",
    "\n",
    "    # ##### Prep profile documents #####\n",
    "\n",
    "    # Dump every profile document into a list\n",
    "    prof_docs_all = [prof for prof in col_prof.find({})]\n",
    "\n",
    "    # Get all the time stamps and convert to unix time (nanoseconds)\n",
    "    prof_time_unix = [int(prof[\"mills\"]) * 1e6 for prof in prof_docs_all]\n",
    "\n",
    "    # Get all the \"store\" items in each document\n",
    "    all_store = [doc[\"store\"] for doc in prof_docs_all]\n",
    "\n",
    "    # Pull out all the keys for each \"store\"\n",
    "    store_keys = [x.keys() for x in all_store]\n",
    "\n",
    "    # Extract the \"store\" info for each document, for any available profiles\n",
    "    all_store_vals = [[doc[key] for key in store_keys[doc_num]] for doc_num, doc in enumerate(all_store)]\n",
    "\n",
    "    # Extract the profile names for each document\n",
    "    all_store_profiles = [[key for key in store_keys[doc_num]] for doc_num, doc in enumerate(all_store)]\n",
    "\n",
    "    # ##### Next, figure out which profile is appropriate for each requested time #####\n",
    "\n",
    "    # Get the indices of the most \"recent\" documents from the collection. Only keep the ones for the requested profile.\n",
    "    doc_idx = [(len([in_time - t for t_idx, t in enumerate(prof_time_unix) if\n",
    "                     (in_time - t >= 0) & (req_profile in all_store_profiles[t_idx])]) - 1) for in_time in\n",
    "               in_times_unix]\n",
    "\n",
    "    # Profile info for each requested time\n",
    "    requested_prof_info = [[all_store[this_doc][prof] for prof in all_store_profiles[this_doc]] for this_doc in doc_idx]\n",
    "\n",
    "    val_req = []\n",
    "    for idx, prof_info in enumerate(requested_prof_info):\n",
    "        if req_setting in prof_info[0].keys():\n",
    "            carb_ratio = prof_info[0][req_setting]\n",
    "        else:\n",
    "            raise Exception(\n",
    "                \"The requested setting, \" + req_setting + \", is not one of: \" + ', '.join(list(prof_info[0].keys())))\n",
    "\n",
    "        # Ensure that the input time zone (CGM) matches the profile/treatment time zone\n",
    "        this_req_time_in = in_times.iloc[idx].tz_convert(prof_info[0]['timezone'])\n",
    "        this_req_time = this_req_time_in.hour * 3600 + this_req_time_in.minute * 60 + this_req_time_in.second\n",
    "\n",
    "        # Convert treatment time to seconds in day using hours and minutes\n",
    "        times = [int(cr[\"time\"].split(':')[0]) * 3600 + int(cr[\"time\"].split(':')[1]) * 60 for cr in carb_ratio]\n",
    "        crs = [cr[\"value\"] for cr in carb_ratio]\n",
    "\n",
    "        t_diff = [this_req_time - t for t in times]\n",
    "\n",
    "        val_req.append([crs[idx] for idx, x in enumerate(t_diff) if x > 0][-1])\n",
    "\n",
    "    return val_req"
   ]
  }
 ],
 "metadata": {
  "kernelspec": {
   "display_name": "Python 3 (ipykernel)",
   "language": "python",
   "name": "python3"
  },
  "language_info": {
   "codemirror_mode": {
    "name": "ipython",
    "version": 3
   },
   "file_extension": ".py",
   "mimetype": "text/x-python",
   "name": "python",
   "nbconvert_exporter": "python",
   "pygments_lexer": "ipython3",
   "version": "3.10.13"
  }
 },
 "nbformat": 4,
 "nbformat_minor": 5
}
